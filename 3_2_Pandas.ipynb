{
  "nbformat": 4,
  "nbformat_minor": 0,
  "metadata": {
    "colab": {
      "name": "3.2 - Pandas.ipynb",
      "provenance": [],
      "collapsed_sections": [
        "j66X9eEZuAT9",
        "yV-K5esRxD1E",
        "f0kUH8l_x-1g",
        "DUVUXE0FzRBP",
        "35_QT2CV9X9h",
        "npsYYDUb-ZiU",
        "ISjEfnRO-5WA",
        "5wxJrxRcAnzg",
        "h7-UvPmfBjAR",
        "-Py459DQFj7I",
        "oZwu4gn2Ki4p",
        "ECWmipbIKkks",
        "EiI9_MUlPiV1",
        "JXkXn4JmblSR",
        "CH4h-l1YQw9y",
        "rEE3S14eQ3YL",
        "tKx9VTUuQ5B4",
        "9K-u4NuuQ8cE",
        "tBONquhERR9p"
      ],
      "toc_visible": true,
      "include_colab_link": true
    },
    "kernelspec": {
      "display_name": "Python 3",
      "language": "python",
      "name": "python3"
    },
    "language_info": {
      "codemirror_mode": {
        "name": "ipython",
        "version": 3
      },
      "file_extension": ".py",
      "mimetype": "text/x-python",
      "name": "python",
      "nbconvert_exporter": "python",
      "pygments_lexer": "ipython3",
      "version": "3.8.3"
    }
  },
  "cells": [
    {
      "cell_type": "markdown",
      "metadata": {
        "id": "view-in-github",
        "colab_type": "text"
      },
      "source": [
        "<a href=\"https://colab.research.google.com/github/pabbbbbb/HerramientasComputacionalesST/blob/main/3_2_Pandas.ipynb\" target=\"_parent\"><img src=\"https://colab.research.google.com/assets/colab-badge.svg\" alt=\"Open In Colab\"/></a>"
      ]
    },
    {
      "cell_type": "code",
      "metadata": {
        "colab": {
          "resources": {
            "http://localhost:8080/nbextensions/google.colab/files.js": {
              "data": "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",
              "ok": true,
              "headers": [
                [
                  "content-type",
                  "application/javascript"
                ]
              ],
              "status": 200,
              "status_text": ""
            }
          },
          "base_uri": "https://localhost:8080/",
          "height": 90
        },
        "id": "B1TT389oSR03",
        "outputId": "cb2c2f02-3ac4-413a-9134-71f00afecfb5"
      },
      "source": [
        "from google.colab import files\n",
        "uploaded = files.upload()\n",
        "\n",
        "for fn in uploaded.keys():\n",
        "  print('Se cargó el archivo: \"{name}\" con una longitud de {length} bytes'.format(name=fn, length=len(uploaded[fn])))"
      ],
      "execution_count": null,
      "outputs": [
        {
          "output_type": "display_data",
          "data": {
            "text/html": [
              "\n",
              "     <input type=\"file\" id=\"files-0fa44db5-dbd4-4dac-9fc0-6d8ef679bff9\" name=\"files[]\" multiple disabled\n",
              "        style=\"border:none\" />\n",
              "     <output id=\"result-0fa44db5-dbd4-4dac-9fc0-6d8ef679bff9\">\n",
              "      Upload widget is only available when the cell has been executed in the\n",
              "      current browser session. Please rerun this cell to enable.\n",
              "      </output>\n",
              "      <script src=\"/nbextensions/google.colab/files.js\"></script> "
            ],
            "text/plain": [
              "<IPython.core.display.HTML object>"
            ]
          },
          "metadata": {
            "tags": []
          }
        },
        {
          "output_type": "stream",
          "text": [
            "Saving netflix_titles.csv to netflix_titles.csv\n",
            "Se cargó el archivo: \"netflix_titles.csv\" con una longitud de 3000491 bytes\n"
          ],
          "name": "stdout"
        }
      ]
    },
    {
      "cell_type": "code",
      "metadata": {
        "colab": {
          "base_uri": "https://localhost:8080/",
          "height": 447
        },
        "id": "tlsVde9jY3gA",
        "outputId": "f5fc9de2-185c-42c8-bade-7661e703b5ba"
      },
      "source": [
        "import pandas as pd\n",
        "import io\n",
        "\n",
        "df = pd.read_csv(io.StringIO(uploaded['netflix_titles.csv'].decode('utf-8')))\n",
        "df.head()"
      ],
      "execution_count": null,
      "outputs": [
        {
          "output_type": "execute_result",
          "data": {
            "text/html": [
              "<div>\n",
              "<style scoped>\n",
              "    .dataframe tbody tr th:only-of-type {\n",
              "        vertical-align: middle;\n",
              "    }\n",
              "\n",
              "    .dataframe tbody tr th {\n",
              "        vertical-align: top;\n",
              "    }\n",
              "\n",
              "    .dataframe thead th {\n",
              "        text-align: right;\n",
              "    }\n",
              "</style>\n",
              "<table border=\"1\" class=\"dataframe\">\n",
              "  <thead>\n",
              "    <tr style=\"text-align: right;\">\n",
              "      <th></th>\n",
              "      <th>show_id</th>\n",
              "      <th>type</th>\n",
              "      <th>title</th>\n",
              "      <th>director</th>\n",
              "      <th>cast</th>\n",
              "      <th>country</th>\n",
              "      <th>date_added</th>\n",
              "      <th>release_year</th>\n",
              "      <th>rating</th>\n",
              "      <th>duration</th>\n",
              "      <th>listed_in</th>\n",
              "      <th>description</th>\n",
              "    </tr>\n",
              "  </thead>\n",
              "  <tbody>\n",
              "    <tr>\n",
              "      <th>0</th>\n",
              "      <td>s1</td>\n",
              "      <td>TV Show</td>\n",
              "      <td>3%</td>\n",
              "      <td>NaN</td>\n",
              "      <td>João Miguel, Bianca Comparato, Michel Gomes, R...</td>\n",
              "      <td>Brazil</td>\n",
              "      <td>August 14, 2020</td>\n",
              "      <td>2020</td>\n",
              "      <td>TV-MA</td>\n",
              "      <td>4 Seasons</td>\n",
              "      <td>International TV Shows, TV Dramas, TV Sci-Fi &amp;...</td>\n",
              "      <td>In a future where the elite inhabit an island ...</td>\n",
              "    </tr>\n",
              "    <tr>\n",
              "      <th>1</th>\n",
              "      <td>s2</td>\n",
              "      <td>Movie</td>\n",
              "      <td>7:19</td>\n",
              "      <td>Jorge Michel Grau</td>\n",
              "      <td>Demián Bichir, Héctor Bonilla, Oscar Serrano, ...</td>\n",
              "      <td>Mexico</td>\n",
              "      <td>December 23, 2016</td>\n",
              "      <td>2016</td>\n",
              "      <td>TV-MA</td>\n",
              "      <td>93 min</td>\n",
              "      <td>Dramas, International Movies</td>\n",
              "      <td>After a devastating earthquake hits Mexico Cit...</td>\n",
              "    </tr>\n",
              "    <tr>\n",
              "      <th>2</th>\n",
              "      <td>s3</td>\n",
              "      <td>Movie</td>\n",
              "      <td>23:59</td>\n",
              "      <td>Gilbert Chan</td>\n",
              "      <td>Tedd Chan, Stella Chung, Henley Hii, Lawrence ...</td>\n",
              "      <td>Singapore</td>\n",
              "      <td>December 20, 2018</td>\n",
              "      <td>2011</td>\n",
              "      <td>R</td>\n",
              "      <td>78 min</td>\n",
              "      <td>Horror Movies, International Movies</td>\n",
              "      <td>When an army recruit is found dead, his fellow...</td>\n",
              "    </tr>\n",
              "    <tr>\n",
              "      <th>3</th>\n",
              "      <td>s4</td>\n",
              "      <td>Movie</td>\n",
              "      <td>9</td>\n",
              "      <td>Shane Acker</td>\n",
              "      <td>Elijah Wood, John C. Reilly, Jennifer Connelly...</td>\n",
              "      <td>United States</td>\n",
              "      <td>November 16, 2017</td>\n",
              "      <td>2009</td>\n",
              "      <td>PG-13</td>\n",
              "      <td>80 min</td>\n",
              "      <td>Action &amp; Adventure, Independent Movies, Sci-Fi...</td>\n",
              "      <td>In a postapocalyptic world, rag-doll robots hi...</td>\n",
              "    </tr>\n",
              "    <tr>\n",
              "      <th>4</th>\n",
              "      <td>s5</td>\n",
              "      <td>Movie</td>\n",
              "      <td>21</td>\n",
              "      <td>Robert Luketic</td>\n",
              "      <td>Jim Sturgess, Kevin Spacey, Kate Bosworth, Aar...</td>\n",
              "      <td>United States</td>\n",
              "      <td>January 1, 2020</td>\n",
              "      <td>2008</td>\n",
              "      <td>PG-13</td>\n",
              "      <td>123 min</td>\n",
              "      <td>Dramas</td>\n",
              "      <td>A brilliant group of students become card-coun...</td>\n",
              "    </tr>\n",
              "  </tbody>\n",
              "</table>\n",
              "</div>"
            ],
            "text/plain": [
              "  show_id  ...                                        description\n",
              "0      s1  ...  In a future where the elite inhabit an island ...\n",
              "1      s2  ...  After a devastating earthquake hits Mexico Cit...\n",
              "2      s3  ...  When an army recruit is found dead, his fellow...\n",
              "3      s4  ...  In a postapocalyptic world, rag-doll robots hi...\n",
              "4      s5  ...  A brilliant group of students become card-coun...\n",
              "\n",
              "[5 rows x 12 columns]"
            ]
          },
          "metadata": {
            "tags": []
          },
          "execution_count": 4
        }
      ]
    },
    {
      "cell_type": "code",
      "metadata": {
        "colab": {
          "base_uri": "https://localhost:8080/"
        },
        "id": "TznVgbobWD8M",
        "outputId": "97f50273-f0c3-44dc-f6e7-15b032caaccf"
      },
      "source": [
        "def top_uno():\r\n",
        "  print(df[0:1])\r\n",
        "  return\r\n",
        "\r\n",
        "top_uno()"
      ],
      "execution_count": null,
      "outputs": [
        {
          "output_type": "stream",
          "text": [
            "  show_id  ...                                        description\n",
            "0      s1  ...  In a future where the elite inhabit an island ...\n",
            "\n",
            "[1 rows x 12 columns]\n"
          ],
          "name": "stdout"
        }
      ]
    },
    {
      "cell_type": "code",
      "metadata": {
        "colab": {
          "base_uri": "https://localhost:8080/"
        },
        "id": "d1jcdHgwXM7E",
        "outputId": "e9dd35d4-7810-4d3f-aea5-06c2a9c2421c"
      },
      "source": [
        "def row_number():\r\n",
        "  print(len(df))\r\n",
        "  return\r\n",
        "\r\n",
        "row_number()"
      ],
      "execution_count": null,
      "outputs": [
        {
          "output_type": "stream",
          "text": [
            "7787\n"
          ],
          "name": "stdout"
        }
      ]
    },
    {
      "cell_type": "code",
      "metadata": {
        "colab": {
          "base_uri": "https://localhost:8080/"
        },
        "id": "nH0AnllkZMi_",
        "outputId": "4bd4ed4c-b39a-4923-dd64-dd5f67bcf1fe"
      },
      "source": [
        "year_consulta=2020\r\n",
        "def released_year(year_consulta):\r\n",
        "  \r\n",
        "  print(df[df.release_year > year_consulta])\r\n",
        "  return\r\n",
        "\r\n",
        "released_year(year_consulta)"
      ],
      "execution_count": null,
      "outputs": [
        {
          "output_type": "stream",
          "text": [
            "     show_id  ...                                        description\n",
            "980     s981  ...  Follow LA's wildly wealthy Asian and Asian Ame...\n",
            "1222   s1223  ...  A master thief who uses her skills for good, C...\n",
            "1285   s1286  ...  On the eve of his 21st birthday, an adored pri...\n",
            "1355   s1356  ...  In this extended cut of his 2018 special, Chri...\n",
            "1440   s1441  ...  Decades after the tournament that changed thei...\n",
            "1514   s1515  ...  A cheap, powerful drug emerges during a recess...\n",
            "1528   s1529  ...  A fascinating character. Exquisite sets. A wig...\n",
            "1780   s1781  ...  Princess duties call, but she'd rather be drin...\n",
            "1864   s1865  ...  Dreams come true for real families looking for...\n",
            "2327   s2328  ...  Cute cats, quirky crafts and colorful magic! J...\n",
            "2672   s2673  ...  Headspace takes a friendly, animated look at t...\n",
            "2741   s2742  ...  Fearless, free-spirited Hilda finds new friend...\n",
            "2753   s2754  ...  Nicolas Cage hosts this proudly profane, funny...\n",
            "3018   s3019  ...  Investigative journalist Paul Connolly becomes...\n",
            "3822   s3823  ...  Inspired by the adventures of Arsène Lupin, ge...\n",
            "4086   s4087  ...  With winter behind them, Bheem and his townspe...\n",
            "4173   s4174  ...  After 20 years, Ana María returns to Mexico an...\n",
            "4390   s4391  ...  The fun, fondant and hilarious cake fails head...\n",
            "4468   s4469  ...  Beneath the sunlit glamour of 1985 LA lurks a ...\n",
            "4710   s4711  ...  In the near future, a drone pilot sent into a ...\n",
            "4965   s4966  ...  Wander the New York City streets and fascinati...\n",
            "5103   s5104  ...  The irrepressible Ratones Paranoicos, Argentin...\n",
            "5859   s5860  ...  Entrenched in a midlife crisis, Aziz seeks sol...\n",
            "5921   s5922  ...  What happens after we die? This docuseries exp...\n",
            "6477   s6478  ...  A boy suddenly orphaned fights his parents' ki...\n",
            "6670   s6671  ...  They've built a movement out of minimalism. Lo...\n",
            "6701   s6702  ...  Hosts David Spade, Fortune Feimster and London...\n",
            "7220   s7221  ...  When her estranged mother falls into a coma, a...\n",
            "7551   s7552  ...  With the peak of his career long behind him, a...\n",
            "7569   s7570  ...  In this delightful short documentary, an Itali...\n",
            "7644   s7645  ...  Singing and dreaming together, a talented sing...\n",
            "\n",
            "[31 rows x 12 columns]\n"
          ],
          "name": "stdout"
        }
      ]
    },
    {
      "cell_type": "markdown",
      "metadata": {
        "id": "VhzY8oaoZcoA"
      },
      "source": [
        "# 2. Librería Pandas\n",
        "\n",
        "Es una librería Open Source, de alto desempeño, fácil de usar y con herramientas de análisis para los desarrolladores de Python.\n",
        "\n"
      ]
    },
    {
      "cell_type": "markdown",
      "metadata": {
        "id": "mOsoWHZCoMiu"
      },
      "source": [
        "## Crear Series o listas con panda\n",
        "\n",
        "Crear una Serie [ `Series`] al pasar una lista de valores"
      ]
    },
    {
      "cell_type": "code",
      "metadata": {
        "colab": {
          "base_uri": "https://localhost:8080/"
        },
        "id": "OWBJ4U28enTu",
        "outputId": "5aea24d2-c684-4027-9712-f32af3ddb6fb"
      },
      "source": [
        " import numpy as np\n",
        " \n",
        " s = pd.Series([1, 3, 5, np.nan, 6, 8])\n",
        " s\n"
      ],
      "execution_count": null,
      "outputs": [
        {
          "output_type": "execute_result",
          "data": {
            "text/plain": [
              "0    1.0\n",
              "1    3.0\n",
              "2    5.0\n",
              "3    NaN\n",
              "4    6.0\n",
              "5    8.0\n",
              "dtype: float64"
            ]
          },
          "metadata": {
            "tags": []
          },
          "execution_count": 5
        }
      ]
    },
    {
      "cell_type": "markdown",
      "metadata": {
        "id": "XF-booXDsXX0"
      },
      "source": [
        "¿Qué valor obtendé de la siguiente instrucción?"
      ]
    },
    {
      "cell_type": "code",
      "metadata": {
        "colab": {
          "base_uri": "https://localhost:8080/"
        },
        "id": "6eeig5k9oaeH",
        "outputId": "64f73316-fb25-4366-c5c5-f8e0eb0874bb"
      },
      "source": [
        "s[0]"
      ],
      "execution_count": null,
      "outputs": [
        {
          "output_type": "execute_result",
          "data": {
            "text/plain": [
              "1.0"
            ]
          },
          "metadata": {
            "tags": []
          },
          "execution_count": 6
        }
      ]
    },
    {
      "cell_type": "markdown",
      "metadata": {
        "id": "LBGPcb5_og0v"
      },
      "source": [
        "?\n",
        "\n",
        "?\n",
        "\n",
        "?\n",
        "\n",
        "?\n",
        "**Nota:** Es importante considerar que los indices inician en **0 ( cero)**"
      ]
    },
    {
      "cell_type": "markdown",
      "metadata": {
        "id": "GSwArXfHpNF0"
      },
      "source": [
        "## Crear un data Frame \n",
        "\n",
        "\n"
      ]
    },
    {
      "cell_type": "markdown",
      "metadata": {
        "id": "-ZmZ1kNAqHa9"
      },
      "source": [
        "Generar un `DataFrame` que contenga números aleatorios en donde los \"índices\" sean las fechas desde el primero de enero de 2020 hasta el 6 de enero de 2020 y tenga 4 columnas con el nombre de: A, B, C, D."
      ]
    },
    {
      "cell_type": "code",
      "metadata": {
        "colab": {
          "base_uri": "https://localhost:8080/"
        },
        "id": "ivEjGbk4pQ7F",
        "outputId": "d7f1d61a-9a9d-4b33-8003-06495199a94e"
      },
      "source": [
        "dates = pd.date_range('20200101', periods=6)\n",
        "dates"
      ],
      "execution_count": null,
      "outputs": [
        {
          "output_type": "execute_result",
          "data": {
            "text/plain": [
              "DatetimeIndex(['2020-01-01', '2020-01-02', '2020-01-03', '2020-01-04',\n",
              "               '2020-01-05', '2020-01-06'],\n",
              "              dtype='datetime64[ns]', freq='D')"
            ]
          },
          "metadata": {
            "tags": []
          },
          "execution_count": 7
        }
      ]
    },
    {
      "cell_type": "code",
      "metadata": {
        "colab": {
          "base_uri": "https://localhost:8080/",
          "height": 235
        },
        "id": "M_sxbLwOp682",
        "outputId": "4cae5c46-5eaf-49ea-f972-e55977f4d771"
      },
      "source": [
        "df = pd.DataFrame(np.random.randn(6, 4), index=dates, columns=list('ABCD'))\n",
        "df"
      ],
      "execution_count": null,
      "outputs": [
        {
          "output_type": "execute_result",
          "data": {
            "text/html": [
              "<div>\n",
              "<style scoped>\n",
              "    .dataframe tbody tr th:only-of-type {\n",
              "        vertical-align: middle;\n",
              "    }\n",
              "\n",
              "    .dataframe tbody tr th {\n",
              "        vertical-align: top;\n",
              "    }\n",
              "\n",
              "    .dataframe thead th {\n",
              "        text-align: right;\n",
              "    }\n",
              "</style>\n",
              "<table border=\"1\" class=\"dataframe\">\n",
              "  <thead>\n",
              "    <tr style=\"text-align: right;\">\n",
              "      <th></th>\n",
              "      <th>A</th>\n",
              "      <th>B</th>\n",
              "      <th>C</th>\n",
              "      <th>D</th>\n",
              "    </tr>\n",
              "  </thead>\n",
              "  <tbody>\n",
              "    <tr>\n",
              "      <th>2020-01-01</th>\n",
              "      <td>2.171689</td>\n",
              "      <td>0.624659</td>\n",
              "      <td>0.418400</td>\n",
              "      <td>0.001954</td>\n",
              "    </tr>\n",
              "    <tr>\n",
              "      <th>2020-01-02</th>\n",
              "      <td>-1.417503</td>\n",
              "      <td>-2.463378</td>\n",
              "      <td>-0.626256</td>\n",
              "      <td>1.925952</td>\n",
              "    </tr>\n",
              "    <tr>\n",
              "      <th>2020-01-03</th>\n",
              "      <td>2.510262</td>\n",
              "      <td>0.216759</td>\n",
              "      <td>-0.075037</td>\n",
              "      <td>-0.482804</td>\n",
              "    </tr>\n",
              "    <tr>\n",
              "      <th>2020-01-04</th>\n",
              "      <td>0.813092</td>\n",
              "      <td>-0.365381</td>\n",
              "      <td>1.466618</td>\n",
              "      <td>-0.476270</td>\n",
              "    </tr>\n",
              "    <tr>\n",
              "      <th>2020-01-05</th>\n",
              "      <td>0.608561</td>\n",
              "      <td>0.313675</td>\n",
              "      <td>0.963575</td>\n",
              "      <td>1.863890</td>\n",
              "    </tr>\n",
              "    <tr>\n",
              "      <th>2020-01-06</th>\n",
              "      <td>-1.717870</td>\n",
              "      <td>-0.246500</td>\n",
              "      <td>-0.579708</td>\n",
              "      <td>-1.514644</td>\n",
              "    </tr>\n",
              "  </tbody>\n",
              "</table>\n",
              "</div>"
            ],
            "text/plain": [
              "                   A         B         C         D\n",
              "2020-01-01  2.171689  0.624659  0.418400  0.001954\n",
              "2020-01-02 -1.417503 -2.463378 -0.626256  1.925952\n",
              "2020-01-03  2.510262  0.216759 -0.075037 -0.482804\n",
              "2020-01-04  0.813092 -0.365381  1.466618 -0.476270\n",
              "2020-01-05  0.608561  0.313675  0.963575  1.863890\n",
              "2020-01-06 -1.717870 -0.246500 -0.579708 -1.514644"
            ]
          },
          "metadata": {
            "tags": []
          },
          "execution_count": 8
        }
      ]
    },
    {
      "cell_type": "markdown",
      "metadata": {
        "id": "x94un3znYAGC"
      },
      "source": [
        "Generar números consecutivos"
      ]
    },
    {
      "cell_type": "code",
      "metadata": {
        "colab": {
          "base_uri": "https://localhost:8080/"
        },
        "id": "_t7a8lw1X194",
        "outputId": "19553959-68b5-4084-df10-af69fd838331"
      },
      "source": [
        "list(range(4))"
      ],
      "execution_count": null,
      "outputs": [
        {
          "output_type": "execute_result",
          "data": {
            "text/plain": [
              "[0, 1, 2, 3]"
            ]
          },
          "metadata": {
            "tags": []
          },
          "execution_count": 9
        }
      ]
    },
    {
      "cell_type": "markdown",
      "metadata": {
        "id": "Zq-Ceh8irpG-"
      },
      "source": [
        "Generar un  DataFrame con diferentes objetos."
      ]
    },
    {
      "cell_type": "code",
      "metadata": {
        "colab": {
          "base_uri": "https://localhost:8080/",
          "height": 173
        },
        "id": "UWFOcaLnrpq3",
        "outputId": "62d47d62-d957-4a71-9ff1-59ce4c14dc4d"
      },
      "source": [
        "df2 = pd.DataFrame({'A': 1.,\n",
        "                    'B': pd.Timestamp('20200101'),\n",
        "                    'C': pd.Series(1, index=list(range(4)), dtype='float32'),\n",
        "                    'D': pd.Series(2, index=list(range(4)), dtype='float32'),\n",
        "                    'E': pd.Categorical([\"test\", \"train\", \"test\", \"train\"]),\n",
        "                    'F': 'foo'})\n",
        "df2"
      ],
      "execution_count": null,
      "outputs": [
        {
          "output_type": "execute_result",
          "data": {
            "text/html": [
              "<div>\n",
              "<style scoped>\n",
              "    .dataframe tbody tr th:only-of-type {\n",
              "        vertical-align: middle;\n",
              "    }\n",
              "\n",
              "    .dataframe tbody tr th {\n",
              "        vertical-align: top;\n",
              "    }\n",
              "\n",
              "    .dataframe thead th {\n",
              "        text-align: right;\n",
              "    }\n",
              "</style>\n",
              "<table border=\"1\" class=\"dataframe\">\n",
              "  <thead>\n",
              "    <tr style=\"text-align: right;\">\n",
              "      <th></th>\n",
              "      <th>A</th>\n",
              "      <th>B</th>\n",
              "      <th>C</th>\n",
              "      <th>D</th>\n",
              "      <th>E</th>\n",
              "      <th>F</th>\n",
              "    </tr>\n",
              "  </thead>\n",
              "  <tbody>\n",
              "    <tr>\n",
              "      <th>0</th>\n",
              "      <td>1.0</td>\n",
              "      <td>2020-01-01</td>\n",
              "      <td>1.0</td>\n",
              "      <td>2.0</td>\n",
              "      <td>test</td>\n",
              "      <td>foo</td>\n",
              "    </tr>\n",
              "    <tr>\n",
              "      <th>1</th>\n",
              "      <td>1.0</td>\n",
              "      <td>2020-01-01</td>\n",
              "      <td>1.0</td>\n",
              "      <td>2.0</td>\n",
              "      <td>train</td>\n",
              "      <td>foo</td>\n",
              "    </tr>\n",
              "    <tr>\n",
              "      <th>2</th>\n",
              "      <td>1.0</td>\n",
              "      <td>2020-01-01</td>\n",
              "      <td>1.0</td>\n",
              "      <td>2.0</td>\n",
              "      <td>test</td>\n",
              "      <td>foo</td>\n",
              "    </tr>\n",
              "    <tr>\n",
              "      <th>3</th>\n",
              "      <td>1.0</td>\n",
              "      <td>2020-01-01</td>\n",
              "      <td>1.0</td>\n",
              "      <td>2.0</td>\n",
              "      <td>train</td>\n",
              "      <td>foo</td>\n",
              "    </tr>\n",
              "  </tbody>\n",
              "</table>\n",
              "</div>"
            ],
            "text/plain": [
              "     A          B    C    D      E    F\n",
              "0  1.0 2020-01-01  1.0  2.0   test  foo\n",
              "1  1.0 2020-01-01  1.0  2.0  train  foo\n",
              "2  1.0 2020-01-01  1.0  2.0   test  foo\n",
              "3  1.0 2020-01-01  1.0  2.0  train  foo"
            ]
          },
          "metadata": {
            "tags": []
          },
          "execution_count": 10
        }
      ]
    },
    {
      "cell_type": "markdown",
      "metadata": {
        "id": "DLWtHJmQY8ca"
      },
      "source": [
        "Obtener los tipos de datos del DataFrame"
      ]
    },
    {
      "cell_type": "markdown",
      "metadata": {
        "id": "RLtPeX9Gte3o"
      },
      "source": [
        "¿Cuál es el tipo de dato de la primera columna \"A\"?\n",
        "?\n",
        "\n",
        "??\n",
        "?\n",
        "\n",
        "?\n"
      ]
    },
    {
      "cell_type": "code",
      "metadata": {
        "colab": {
          "base_uri": "https://localhost:8080/"
        },
        "id": "H1-PnbrOsPLD",
        "outputId": "c204eda7-ce26-4c77-d289-b4c20d2658e0"
      },
      "source": [
        " df2.dtypes"
      ],
      "execution_count": null,
      "outputs": [
        {
          "output_type": "execute_result",
          "data": {
            "text/plain": [
              "A           float64\n",
              "B    datetime64[ns]\n",
              "C           float32\n",
              "D           float32\n",
              "E          category\n",
              "F            object\n",
              "dtype: object"
            ]
          },
          "metadata": {
            "tags": []
          },
          "execution_count": 11
        }
      ]
    },
    {
      "cell_type": "markdown",
      "metadata": {
        "id": "j66X9eEZuAT9"
      },
      "source": [
        "## Visualizar los primeros y los últimos valores de un data set\n",
        "\n",
        "Recordando en R la instrucción era `head(dataFrame,n=N)` \n",
        "\n",
        "¿Cómo será en Python para los primeros y los últimos valores?"
      ]
    },
    {
      "cell_type": "markdown",
      "metadata": {
        "id": "jHTxVBhuwhIE"
      },
      "source": [
        "Primeros 5 valores de DataFrame df"
      ]
    },
    {
      "cell_type": "code",
      "metadata": {
        "colab": {
          "base_uri": "https://localhost:8080/",
          "height": 204
        },
        "id": "eVmUvGZVv-_i",
        "outputId": "b3578833-a975-475c-c2d1-fe4a9a674abc"
      },
      "source": [
        "df.head(n=5)"
      ],
      "execution_count": null,
      "outputs": [
        {
          "output_type": "execute_result",
          "data": {
            "text/html": [
              "<div>\n",
              "<style scoped>\n",
              "    .dataframe tbody tr th:only-of-type {\n",
              "        vertical-align: middle;\n",
              "    }\n",
              "\n",
              "    .dataframe tbody tr th {\n",
              "        vertical-align: top;\n",
              "    }\n",
              "\n",
              "    .dataframe thead th {\n",
              "        text-align: right;\n",
              "    }\n",
              "</style>\n",
              "<table border=\"1\" class=\"dataframe\">\n",
              "  <thead>\n",
              "    <tr style=\"text-align: right;\">\n",
              "      <th></th>\n",
              "      <th>A</th>\n",
              "      <th>B</th>\n",
              "      <th>C</th>\n",
              "      <th>D</th>\n",
              "    </tr>\n",
              "  </thead>\n",
              "  <tbody>\n",
              "    <tr>\n",
              "      <th>2020-01-01</th>\n",
              "      <td>2.171689</td>\n",
              "      <td>0.624659</td>\n",
              "      <td>0.418400</td>\n",
              "      <td>0.001954</td>\n",
              "    </tr>\n",
              "    <tr>\n",
              "      <th>2020-01-02</th>\n",
              "      <td>-1.417503</td>\n",
              "      <td>-2.463378</td>\n",
              "      <td>-0.626256</td>\n",
              "      <td>1.925952</td>\n",
              "    </tr>\n",
              "    <tr>\n",
              "      <th>2020-01-03</th>\n",
              "      <td>2.510262</td>\n",
              "      <td>0.216759</td>\n",
              "      <td>-0.075037</td>\n",
              "      <td>-0.482804</td>\n",
              "    </tr>\n",
              "    <tr>\n",
              "      <th>2020-01-04</th>\n",
              "      <td>0.813092</td>\n",
              "      <td>-0.365381</td>\n",
              "      <td>1.466618</td>\n",
              "      <td>-0.476270</td>\n",
              "    </tr>\n",
              "    <tr>\n",
              "      <th>2020-01-05</th>\n",
              "      <td>0.608561</td>\n",
              "      <td>0.313675</td>\n",
              "      <td>0.963575</td>\n",
              "      <td>1.863890</td>\n",
              "    </tr>\n",
              "  </tbody>\n",
              "</table>\n",
              "</div>"
            ],
            "text/plain": [
              "                   A         B         C         D\n",
              "2020-01-01  2.171689  0.624659  0.418400  0.001954\n",
              "2020-01-02 -1.417503 -2.463378 -0.626256  1.925952\n",
              "2020-01-03  2.510262  0.216759 -0.075037 -0.482804\n",
              "2020-01-04  0.813092 -0.365381  1.466618 -0.476270\n",
              "2020-01-05  0.608561  0.313675  0.963575  1.863890"
            ]
          },
          "metadata": {
            "tags": []
          },
          "execution_count": 12
        }
      ]
    },
    {
      "cell_type": "markdown",
      "metadata": {
        "id": "aLbjh1tPwcV6"
      },
      "source": [
        "Últimos 4 valores del DataFrame df"
      ]
    },
    {
      "cell_type": "code",
      "metadata": {
        "colab": {
          "base_uri": "https://localhost:8080/",
          "height": 173
        },
        "id": "lRJW3-r-wNuH",
        "outputId": "75a35752-e23d-4aef-a395-9de62f59339c"
      },
      "source": [
        "df.tail(n=4)"
      ],
      "execution_count": null,
      "outputs": [
        {
          "output_type": "execute_result",
          "data": {
            "text/html": [
              "<div>\n",
              "<style scoped>\n",
              "    .dataframe tbody tr th:only-of-type {\n",
              "        vertical-align: middle;\n",
              "    }\n",
              "\n",
              "    .dataframe tbody tr th {\n",
              "        vertical-align: top;\n",
              "    }\n",
              "\n",
              "    .dataframe thead th {\n",
              "        text-align: right;\n",
              "    }\n",
              "</style>\n",
              "<table border=\"1\" class=\"dataframe\">\n",
              "  <thead>\n",
              "    <tr style=\"text-align: right;\">\n",
              "      <th></th>\n",
              "      <th>A</th>\n",
              "      <th>B</th>\n",
              "      <th>C</th>\n",
              "      <th>D</th>\n",
              "    </tr>\n",
              "  </thead>\n",
              "  <tbody>\n",
              "    <tr>\n",
              "      <th>2020-01-03</th>\n",
              "      <td>2.510262</td>\n",
              "      <td>0.216759</td>\n",
              "      <td>-0.075037</td>\n",
              "      <td>-0.482804</td>\n",
              "    </tr>\n",
              "    <tr>\n",
              "      <th>2020-01-04</th>\n",
              "      <td>0.813092</td>\n",
              "      <td>-0.365381</td>\n",
              "      <td>1.466618</td>\n",
              "      <td>-0.476270</td>\n",
              "    </tr>\n",
              "    <tr>\n",
              "      <th>2020-01-05</th>\n",
              "      <td>0.608561</td>\n",
              "      <td>0.313675</td>\n",
              "      <td>0.963575</td>\n",
              "      <td>1.863890</td>\n",
              "    </tr>\n",
              "    <tr>\n",
              "      <th>2020-01-06</th>\n",
              "      <td>-1.717870</td>\n",
              "      <td>-0.246500</td>\n",
              "      <td>-0.579708</td>\n",
              "      <td>-1.514644</td>\n",
              "    </tr>\n",
              "  </tbody>\n",
              "</table>\n",
              "</div>"
            ],
            "text/plain": [
              "                   A         B         C         D\n",
              "2020-01-03  2.510262  0.216759 -0.075037 -0.482804\n",
              "2020-01-04  0.813092 -0.365381  1.466618 -0.476270\n",
              "2020-01-05  0.608561  0.313675  0.963575  1.863890\n",
              "2020-01-06 -1.717870 -0.246500 -0.579708 -1.514644"
            ]
          },
          "metadata": {
            "tags": []
          },
          "execution_count": 13
        }
      ]
    },
    {
      "cell_type": "markdown",
      "metadata": {
        "id": "yV-K5esRxD1E"
      },
      "source": [
        "## Métricas descriptivas\n",
        "Obtener el conteo, el promedio, mínimo, cuartiles y máximos de los valores del DataFrame por columna."
      ]
    },
    {
      "cell_type": "code",
      "metadata": {
        "colab": {
          "base_uri": "https://localhost:8080/",
          "height": 297
        },
        "id": "L1rihqnWw9o1",
        "outputId": "0ba6d6c6-1810-42c4-9033-30d640cdd4df"
      },
      "source": [
        "df.describe()"
      ],
      "execution_count": null,
      "outputs": [
        {
          "output_type": "execute_result",
          "data": {
            "text/html": [
              "<div>\n",
              "<style scoped>\n",
              "    .dataframe tbody tr th:only-of-type {\n",
              "        vertical-align: middle;\n",
              "    }\n",
              "\n",
              "    .dataframe tbody tr th {\n",
              "        vertical-align: top;\n",
              "    }\n",
              "\n",
              "    .dataframe thead th {\n",
              "        text-align: right;\n",
              "    }\n",
              "</style>\n",
              "<table border=\"1\" class=\"dataframe\">\n",
              "  <thead>\n",
              "    <tr style=\"text-align: right;\">\n",
              "      <th></th>\n",
              "      <th>A</th>\n",
              "      <th>B</th>\n",
              "      <th>C</th>\n",
              "      <th>D</th>\n",
              "    </tr>\n",
              "  </thead>\n",
              "  <tbody>\n",
              "    <tr>\n",
              "      <th>count</th>\n",
              "      <td>6.000000</td>\n",
              "      <td>6.000000</td>\n",
              "      <td>6.000000</td>\n",
              "      <td>6.000000</td>\n",
              "    </tr>\n",
              "    <tr>\n",
              "      <th>mean</th>\n",
              "      <td>0.494705</td>\n",
              "      <td>-0.320028</td>\n",
              "      <td>0.261265</td>\n",
              "      <td>0.219680</td>\n",
              "    </tr>\n",
              "    <tr>\n",
              "      <th>std</th>\n",
              "      <td>1.763015</td>\n",
              "      <td>1.112076</td>\n",
              "      <td>0.846030</td>\n",
              "      <td>1.389094</td>\n",
              "    </tr>\n",
              "    <tr>\n",
              "      <th>min</th>\n",
              "      <td>-1.717870</td>\n",
              "      <td>-2.463378</td>\n",
              "      <td>-0.626256</td>\n",
              "      <td>-1.514644</td>\n",
              "    </tr>\n",
              "    <tr>\n",
              "      <th>25%</th>\n",
              "      <td>-0.910987</td>\n",
              "      <td>-0.335661</td>\n",
              "      <td>-0.453540</td>\n",
              "      <td>-0.481171</td>\n",
              "    </tr>\n",
              "    <tr>\n",
              "      <th>50%</th>\n",
              "      <td>0.710826</td>\n",
              "      <td>-0.014871</td>\n",
              "      <td>0.171682</td>\n",
              "      <td>-0.237158</td>\n",
              "    </tr>\n",
              "    <tr>\n",
              "      <th>75%</th>\n",
              "      <td>1.832040</td>\n",
              "      <td>0.289446</td>\n",
              "      <td>0.827281</td>\n",
              "      <td>1.398406</td>\n",
              "    </tr>\n",
              "    <tr>\n",
              "      <th>max</th>\n",
              "      <td>2.510262</td>\n",
              "      <td>0.624659</td>\n",
              "      <td>1.466618</td>\n",
              "      <td>1.925952</td>\n",
              "    </tr>\n",
              "  </tbody>\n",
              "</table>\n",
              "</div>"
            ],
            "text/plain": [
              "              A         B         C         D\n",
              "count  6.000000  6.000000  6.000000  6.000000\n",
              "mean   0.494705 -0.320028  0.261265  0.219680\n",
              "std    1.763015  1.112076  0.846030  1.389094\n",
              "min   -1.717870 -2.463378 -0.626256 -1.514644\n",
              "25%   -0.910987 -0.335661 -0.453540 -0.481171\n",
              "50%    0.710826 -0.014871  0.171682 -0.237158\n",
              "75%    1.832040  0.289446  0.827281  1.398406\n",
              "max    2.510262  0.624659  1.466618  1.925952"
            ]
          },
          "metadata": {
            "tags": []
          },
          "execution_count": 14
        }
      ]
    },
    {
      "cell_type": "markdown",
      "metadata": {
        "id": "f0kUH8l_x-1g"
      },
      "source": [
        "## Transponer la información \n",
        "\n",
        "Es decir, las columnas en indices y los indices en columnas\n",
        "\n",
        "De esta forma : \n",
        "\n",
        "![image.png](data:image/png;base64,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)\n",
        "\n",
        "\n",
        "\n",
        "a esta forma: \n",
        "\n",
        "![image.png](data:image/png;base64,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)\n",
        "\n",
        "\n",
        "\n"
      ]
    },
    {
      "cell_type": "code",
      "metadata": {
        "colab": {
          "base_uri": "https://localhost:8080/",
          "height": 173
        },
        "id": "znwVQ2TVyLsk",
        "outputId": "cc15eb28-af11-42e0-f223-2521ef09b29e"
      },
      "source": [
        "df.T"
      ],
      "execution_count": null,
      "outputs": [
        {
          "output_type": "execute_result",
          "data": {
            "text/html": [
              "<div>\n",
              "<style scoped>\n",
              "    .dataframe tbody tr th:only-of-type {\n",
              "        vertical-align: middle;\n",
              "    }\n",
              "\n",
              "    .dataframe tbody tr th {\n",
              "        vertical-align: top;\n",
              "    }\n",
              "\n",
              "    .dataframe thead th {\n",
              "        text-align: right;\n",
              "    }\n",
              "</style>\n",
              "<table border=\"1\" class=\"dataframe\">\n",
              "  <thead>\n",
              "    <tr style=\"text-align: right;\">\n",
              "      <th></th>\n",
              "      <th>2020-01-01</th>\n",
              "      <th>2020-01-02</th>\n",
              "      <th>2020-01-03</th>\n",
              "      <th>2020-01-04</th>\n",
              "      <th>2020-01-05</th>\n",
              "      <th>2020-01-06</th>\n",
              "    </tr>\n",
              "  </thead>\n",
              "  <tbody>\n",
              "    <tr>\n",
              "      <th>A</th>\n",
              "      <td>2.171689</td>\n",
              "      <td>-1.417503</td>\n",
              "      <td>2.510262</td>\n",
              "      <td>0.813092</td>\n",
              "      <td>0.608561</td>\n",
              "      <td>-1.717870</td>\n",
              "    </tr>\n",
              "    <tr>\n",
              "      <th>B</th>\n",
              "      <td>0.624659</td>\n",
              "      <td>-2.463378</td>\n",
              "      <td>0.216759</td>\n",
              "      <td>-0.365381</td>\n",
              "      <td>0.313675</td>\n",
              "      <td>-0.246500</td>\n",
              "    </tr>\n",
              "    <tr>\n",
              "      <th>C</th>\n",
              "      <td>0.418400</td>\n",
              "      <td>-0.626256</td>\n",
              "      <td>-0.075037</td>\n",
              "      <td>1.466618</td>\n",
              "      <td>0.963575</td>\n",
              "      <td>-0.579708</td>\n",
              "    </tr>\n",
              "    <tr>\n",
              "      <th>D</th>\n",
              "      <td>0.001954</td>\n",
              "      <td>1.925952</td>\n",
              "      <td>-0.482804</td>\n",
              "      <td>-0.476270</td>\n",
              "      <td>1.863890</td>\n",
              "      <td>-1.514644</td>\n",
              "    </tr>\n",
              "  </tbody>\n",
              "</table>\n",
              "</div>"
            ],
            "text/plain": [
              "   2020-01-01  2020-01-02  2020-01-03  2020-01-04  2020-01-05  2020-01-06\n",
              "A    2.171689   -1.417503    2.510262    0.813092    0.608561   -1.717870\n",
              "B    0.624659   -2.463378    0.216759   -0.365381    0.313675   -0.246500\n",
              "C    0.418400   -0.626256   -0.075037    1.466618    0.963575   -0.579708\n",
              "D    0.001954    1.925952   -0.482804   -0.476270    1.863890   -1.514644"
            ]
          },
          "metadata": {
            "tags": []
          },
          "execution_count": 15
        }
      ]
    },
    {
      "cell_type": "markdown",
      "metadata": {
        "id": "DUVUXE0FzRBP"
      },
      "source": [
        "## Selección de Información"
      ]
    },
    {
      "cell_type": "markdown",
      "metadata": {
        "id": "35_QT2CV9X9h"
      },
      "source": [
        "### Seleccionar columnas\n",
        "Seleccionar los valores de la columna 'A' del dataFrame df"
      ]
    },
    {
      "cell_type": "code",
      "metadata": {
        "colab": {
          "base_uri": "https://localhost:8080/"
        },
        "id": "uNSBl5ew9UaZ",
        "outputId": "e5d762e1-317d-42bc-8b8c-22af8f534c0e"
      },
      "source": [
        "df[\"A\"]\n",
        "\n"
      ],
      "execution_count": null,
      "outputs": [
        {
          "output_type": "execute_result",
          "data": {
            "text/plain": [
              "2020-01-01    2.171689\n",
              "2020-01-02   -1.417503\n",
              "2020-01-03    2.510262\n",
              "2020-01-04    0.813092\n",
              "2020-01-05    0.608561\n",
              "2020-01-06   -1.717870\n",
              "Freq: D, Name: A, dtype: float64"
            ]
          },
          "metadata": {
            "tags": []
          },
          "execution_count": 16
        }
      ]
    },
    {
      "cell_type": "code",
      "metadata": {
        "colab": {
          "base_uri": "https://localhost:8080/"
        },
        "id": "kvIDmR8aZiII",
        "outputId": "6e029eb3-d9a0-4c63-a34d-59cad46334c5"
      },
      "source": [
        "df['A']"
      ],
      "execution_count": null,
      "outputs": [
        {
          "output_type": "execute_result",
          "data": {
            "text/plain": [
              "2020-01-01    2.171689\n",
              "2020-01-02   -1.417503\n",
              "2020-01-03    2.510262\n",
              "2020-01-04    0.813092\n",
              "2020-01-05    0.608561\n",
              "2020-01-06   -1.717870\n",
              "Freq: D, Name: A, dtype: float64"
            ]
          },
          "metadata": {
            "tags": []
          },
          "execution_count": 17
        }
      ]
    },
    {
      "cell_type": "markdown",
      "metadata": {
        "id": "e0CzMzar9prU"
      },
      "source": [
        "df.A \n",
        "¿Obtendrá el mismo resultado anterior?\n",
        "?\n",
        "\n",
        "?\n",
        "\n",
        "?"
      ]
    },
    {
      "cell_type": "code",
      "metadata": {
        "colab": {
          "base_uri": "https://localhost:8080/"
        },
        "id": "tttbSHdr-GkW",
        "outputId": "f172fac1-e2a9-49ec-c1e1-2680a822e81c"
      },
      "source": [
        "df.A"
      ],
      "execution_count": null,
      "outputs": [
        {
          "output_type": "execute_result",
          "data": {
            "text/plain": [
              "2020-01-01    2.171689\n",
              "2020-01-02   -1.417503\n",
              "2020-01-03    2.510262\n",
              "2020-01-04    0.813092\n",
              "2020-01-05    0.608561\n",
              "2020-01-06   -1.717870\n",
              "Freq: D, Name: A, dtype: float64"
            ]
          },
          "metadata": {
            "tags": []
          },
          "execution_count": 18
        }
      ]
    },
    {
      "cell_type": "code",
      "metadata": {
        "colab": {
          "base_uri": "https://localhost:8080/"
        },
        "id": "pDtRKBTFP-Co",
        "outputId": "fa33c77e-bbd3-4771-e934-9a8ac0f0edd2"
      },
      "source": [
        " df.dtypes"
      ],
      "execution_count": null,
      "outputs": [
        {
          "output_type": "execute_result",
          "data": {
            "text/plain": [
              "A    float64\n",
              "B    float64\n",
              "C    float64\n",
              "D    float64\n",
              "dtype: object"
            ]
          },
          "metadata": {
            "tags": []
          },
          "execution_count": 19
        }
      ]
    },
    {
      "cell_type": "markdown",
      "metadata": {
        "id": "npsYYDUb-ZiU"
      },
      "source": [
        "### Seleccionar renglones\n",
        "\n",
        "Seleccionar los primeros 3 renglones del dataFrame df\n"
      ]
    },
    {
      "cell_type": "code",
      "metadata": {
        "colab": {
          "base_uri": "https://localhost:8080/",
          "height": 142
        },
        "id": "QvD5DW3U-dgJ",
        "outputId": "8770a1d0-1b2f-45d2-cd86-493f56d6ca5f"
      },
      "source": [
        "df[0:3]\n"
      ],
      "execution_count": null,
      "outputs": [
        {
          "output_type": "execute_result",
          "data": {
            "text/html": [
              "<div>\n",
              "<style scoped>\n",
              "    .dataframe tbody tr th:only-of-type {\n",
              "        vertical-align: middle;\n",
              "    }\n",
              "\n",
              "    .dataframe tbody tr th {\n",
              "        vertical-align: top;\n",
              "    }\n",
              "\n",
              "    .dataframe thead th {\n",
              "        text-align: right;\n",
              "    }\n",
              "</style>\n",
              "<table border=\"1\" class=\"dataframe\">\n",
              "  <thead>\n",
              "    <tr style=\"text-align: right;\">\n",
              "      <th></th>\n",
              "      <th>A</th>\n",
              "      <th>B</th>\n",
              "      <th>C</th>\n",
              "      <th>D</th>\n",
              "    </tr>\n",
              "  </thead>\n",
              "  <tbody>\n",
              "    <tr>\n",
              "      <th>2020-01-01</th>\n",
              "      <td>2.171689</td>\n",
              "      <td>0.624659</td>\n",
              "      <td>0.418400</td>\n",
              "      <td>0.001954</td>\n",
              "    </tr>\n",
              "    <tr>\n",
              "      <th>2020-01-02</th>\n",
              "      <td>-1.417503</td>\n",
              "      <td>-2.463378</td>\n",
              "      <td>-0.626256</td>\n",
              "      <td>1.925952</td>\n",
              "    </tr>\n",
              "    <tr>\n",
              "      <th>2020-01-03</th>\n",
              "      <td>2.510262</td>\n",
              "      <td>0.216759</td>\n",
              "      <td>-0.075037</td>\n",
              "      <td>-0.482804</td>\n",
              "    </tr>\n",
              "  </tbody>\n",
              "</table>\n",
              "</div>"
            ],
            "text/plain": [
              "                   A         B         C         D\n",
              "2020-01-01  2.171689  0.624659  0.418400  0.001954\n",
              "2020-01-02 -1.417503 -2.463378 -0.626256  1.925952\n",
              "2020-01-03  2.510262  0.216759 -0.075037 -0.482804"
            ]
          },
          "metadata": {
            "tags": []
          },
          "execution_count": 20
        }
      ]
    },
    {
      "cell_type": "code",
      "metadata": {
        "colab": {
          "base_uri": "https://localhost:8080/",
          "height": 235
        },
        "id": "AvE4rlLuQUBT",
        "outputId": "de970bb6-64c4-427b-dbdf-572acd689f5d"
      },
      "source": [
        "df"
      ],
      "execution_count": null,
      "outputs": [
        {
          "output_type": "execute_result",
          "data": {
            "text/html": [
              "<div>\n",
              "<style scoped>\n",
              "    .dataframe tbody tr th:only-of-type {\n",
              "        vertical-align: middle;\n",
              "    }\n",
              "\n",
              "    .dataframe tbody tr th {\n",
              "        vertical-align: top;\n",
              "    }\n",
              "\n",
              "    .dataframe thead th {\n",
              "        text-align: right;\n",
              "    }\n",
              "</style>\n",
              "<table border=\"1\" class=\"dataframe\">\n",
              "  <thead>\n",
              "    <tr style=\"text-align: right;\">\n",
              "      <th></th>\n",
              "      <th>A</th>\n",
              "      <th>B</th>\n",
              "      <th>C</th>\n",
              "      <th>D</th>\n",
              "    </tr>\n",
              "  </thead>\n",
              "  <tbody>\n",
              "    <tr>\n",
              "      <th>2020-01-01</th>\n",
              "      <td>2.171689</td>\n",
              "      <td>0.624659</td>\n",
              "      <td>0.418400</td>\n",
              "      <td>0.001954</td>\n",
              "    </tr>\n",
              "    <tr>\n",
              "      <th>2020-01-02</th>\n",
              "      <td>-1.417503</td>\n",
              "      <td>-2.463378</td>\n",
              "      <td>-0.626256</td>\n",
              "      <td>1.925952</td>\n",
              "    </tr>\n",
              "    <tr>\n",
              "      <th>2020-01-03</th>\n",
              "      <td>2.510262</td>\n",
              "      <td>0.216759</td>\n",
              "      <td>-0.075037</td>\n",
              "      <td>-0.482804</td>\n",
              "    </tr>\n",
              "    <tr>\n",
              "      <th>2020-01-04</th>\n",
              "      <td>0.813092</td>\n",
              "      <td>-0.365381</td>\n",
              "      <td>1.466618</td>\n",
              "      <td>-0.476270</td>\n",
              "    </tr>\n",
              "    <tr>\n",
              "      <th>2020-01-05</th>\n",
              "      <td>0.608561</td>\n",
              "      <td>0.313675</td>\n",
              "      <td>0.963575</td>\n",
              "      <td>1.863890</td>\n",
              "    </tr>\n",
              "    <tr>\n",
              "      <th>2020-01-06</th>\n",
              "      <td>-1.717870</td>\n",
              "      <td>-0.246500</td>\n",
              "      <td>-0.579708</td>\n",
              "      <td>-1.514644</td>\n",
              "    </tr>\n",
              "  </tbody>\n",
              "</table>\n",
              "</div>"
            ],
            "text/plain": [
              "                   A         B         C         D\n",
              "2020-01-01  2.171689  0.624659  0.418400  0.001954\n",
              "2020-01-02 -1.417503 -2.463378 -0.626256  1.925952\n",
              "2020-01-03  2.510262  0.216759 -0.075037 -0.482804\n",
              "2020-01-04  0.813092 -0.365381  1.466618 -0.476270\n",
              "2020-01-05  0.608561  0.313675  0.963575  1.863890\n",
              "2020-01-06 -1.717870 -0.246500 -0.579708 -1.514644"
            ]
          },
          "metadata": {
            "tags": []
          },
          "execution_count": 21
        }
      ]
    },
    {
      "cell_type": "code",
      "metadata": {
        "colab": {
          "base_uri": "https://localhost:8080/",
          "height": 142
        },
        "id": "EJKR2bDRQSwb",
        "outputId": "81c2b8b1-4b9f-4c95-9daa-c2d837259002"
      },
      "source": [
        "df['2020-01-01':'2020-01-03']"
      ],
      "execution_count": null,
      "outputs": [
        {
          "output_type": "execute_result",
          "data": {
            "text/html": [
              "<div>\n",
              "<style scoped>\n",
              "    .dataframe tbody tr th:only-of-type {\n",
              "        vertical-align: middle;\n",
              "    }\n",
              "\n",
              "    .dataframe tbody tr th {\n",
              "        vertical-align: top;\n",
              "    }\n",
              "\n",
              "    .dataframe thead th {\n",
              "        text-align: right;\n",
              "    }\n",
              "</style>\n",
              "<table border=\"1\" class=\"dataframe\">\n",
              "  <thead>\n",
              "    <tr style=\"text-align: right;\">\n",
              "      <th></th>\n",
              "      <th>A</th>\n",
              "      <th>B</th>\n",
              "      <th>C</th>\n",
              "      <th>D</th>\n",
              "    </tr>\n",
              "  </thead>\n",
              "  <tbody>\n",
              "    <tr>\n",
              "      <th>2020-01-01</th>\n",
              "      <td>2.171689</td>\n",
              "      <td>0.624659</td>\n",
              "      <td>0.418400</td>\n",
              "      <td>0.001954</td>\n",
              "    </tr>\n",
              "    <tr>\n",
              "      <th>2020-01-02</th>\n",
              "      <td>-1.417503</td>\n",
              "      <td>-2.463378</td>\n",
              "      <td>-0.626256</td>\n",
              "      <td>1.925952</td>\n",
              "    </tr>\n",
              "    <tr>\n",
              "      <th>2020-01-03</th>\n",
              "      <td>2.510262</td>\n",
              "      <td>0.216759</td>\n",
              "      <td>-0.075037</td>\n",
              "      <td>-0.482804</td>\n",
              "    </tr>\n",
              "  </tbody>\n",
              "</table>\n",
              "</div>"
            ],
            "text/plain": [
              "                   A         B         C         D\n",
              "2020-01-01  2.171689  0.624659  0.418400  0.001954\n",
              "2020-01-02 -1.417503 -2.463378 -0.626256  1.925952\n",
              "2020-01-03  2.510262  0.216759 -0.075037 -0.482804"
            ]
          },
          "metadata": {
            "tags": []
          },
          "execution_count": 22
        }
      ]
    },
    {
      "cell_type": "markdown",
      "metadata": {
        "id": "ISjEfnRO-5WA"
      },
      "source": [
        "### Seleccionar con \"Labels\"\n",
        "\n",
        "Seleccionar la columna \"A\" y \"B\" del dataFrame df"
      ]
    },
    {
      "cell_type": "markdown",
      "metadata": {
        "id": "xst8u76rADUT"
      },
      "source": [
        "Seleccionar un valor en específico. Ejemplo fecha '2020-01-01' en la columna \"A\""
      ]
    },
    {
      "cell_type": "code",
      "metadata": {
        "colab": {
          "base_uri": "https://localhost:8080/"
        },
        "id": "t62fsU9O_Qf_",
        "outputId": "b39b49a2-afda-43d9-b041-183eaa3622c8"
      },
      "source": [
        "df.loc[dates[0], 'A']"
      ],
      "execution_count": null,
      "outputs": [
        {
          "output_type": "execute_result",
          "data": {
            "text/plain": [
              "2.171689138434392"
            ]
          },
          "metadata": {
            "tags": []
          },
          "execution_count": 23
        }
      ]
    },
    {
      "cell_type": "markdown",
      "metadata": {
        "id": "5wxJrxRcAnzg"
      },
      "source": [
        "### Seleccionar por posición\n",
        "\n",
        "Seleccionar los renglones con indice 2020-01-04 y 2020-01-05 además de las columnas A y B"
      ]
    },
    {
      "cell_type": "code",
      "metadata": {
        "colab": {
          "base_uri": "https://localhost:8080/",
          "height": 111
        },
        "id": "PXrh5-4zAxZz",
        "outputId": "8b958846-0582-4b03-87b3-25ca607654b4"
      },
      "source": [
        "df.iloc[3:5, 0:2]"
      ],
      "execution_count": null,
      "outputs": [
        {
          "output_type": "execute_result",
          "data": {
            "text/html": [
              "<div>\n",
              "<style scoped>\n",
              "    .dataframe tbody tr th:only-of-type {\n",
              "        vertical-align: middle;\n",
              "    }\n",
              "\n",
              "    .dataframe tbody tr th {\n",
              "        vertical-align: top;\n",
              "    }\n",
              "\n",
              "    .dataframe thead th {\n",
              "        text-align: right;\n",
              "    }\n",
              "</style>\n",
              "<table border=\"1\" class=\"dataframe\">\n",
              "  <thead>\n",
              "    <tr style=\"text-align: right;\">\n",
              "      <th></th>\n",
              "      <th>A</th>\n",
              "      <th>B</th>\n",
              "    </tr>\n",
              "  </thead>\n",
              "  <tbody>\n",
              "    <tr>\n",
              "      <th>2020-01-04</th>\n",
              "      <td>0.813092</td>\n",
              "      <td>-0.365381</td>\n",
              "    </tr>\n",
              "    <tr>\n",
              "      <th>2020-01-05</th>\n",
              "      <td>0.608561</td>\n",
              "      <td>0.313675</td>\n",
              "    </tr>\n",
              "  </tbody>\n",
              "</table>\n",
              "</div>"
            ],
            "text/plain": [
              "                   A         B\n",
              "2020-01-04  0.813092 -0.365381\n",
              "2020-01-05  0.608561  0.313675"
            ]
          },
          "metadata": {
            "tags": []
          },
          "execution_count": 24
        }
      ]
    },
    {
      "cell_type": "markdown",
      "metadata": {
        "id": "0-dzDZhcErqu"
      },
      "source": [
        "Seleccionar un valor en especifico ejemplo el valor en la columna A en el renglon 2020-01-01 Ejemplo;"
      ]
    },
    {
      "cell_type": "code",
      "metadata": {
        "colab": {
          "base_uri": "https://localhost:8080/",
          "height": 235
        },
        "id": "CJDGmjAwFFFH",
        "outputId": "c1f3618f-099d-4c1a-c9a4-73bf5e4d6d30"
      },
      "source": [
        "df"
      ],
      "execution_count": null,
      "outputs": [
        {
          "output_type": "execute_result",
          "data": {
            "text/html": [
              "<div>\n",
              "<style scoped>\n",
              "    .dataframe tbody tr th:only-of-type {\n",
              "        vertical-align: middle;\n",
              "    }\n",
              "\n",
              "    .dataframe tbody tr th {\n",
              "        vertical-align: top;\n",
              "    }\n",
              "\n",
              "    .dataframe thead th {\n",
              "        text-align: right;\n",
              "    }\n",
              "</style>\n",
              "<table border=\"1\" class=\"dataframe\">\n",
              "  <thead>\n",
              "    <tr style=\"text-align: right;\">\n",
              "      <th></th>\n",
              "      <th>A</th>\n",
              "      <th>B</th>\n",
              "      <th>C</th>\n",
              "      <th>D</th>\n",
              "    </tr>\n",
              "  </thead>\n",
              "  <tbody>\n",
              "    <tr>\n",
              "      <th>2020-01-01</th>\n",
              "      <td>2.171689</td>\n",
              "      <td>0.624659</td>\n",
              "      <td>0.418400</td>\n",
              "      <td>0.001954</td>\n",
              "    </tr>\n",
              "    <tr>\n",
              "      <th>2020-01-02</th>\n",
              "      <td>-1.417503</td>\n",
              "      <td>-2.463378</td>\n",
              "      <td>-0.626256</td>\n",
              "      <td>1.925952</td>\n",
              "    </tr>\n",
              "    <tr>\n",
              "      <th>2020-01-03</th>\n",
              "      <td>2.510262</td>\n",
              "      <td>0.216759</td>\n",
              "      <td>-0.075037</td>\n",
              "      <td>-0.482804</td>\n",
              "    </tr>\n",
              "    <tr>\n",
              "      <th>2020-01-04</th>\n",
              "      <td>0.813092</td>\n",
              "      <td>-0.365381</td>\n",
              "      <td>1.466618</td>\n",
              "      <td>-0.476270</td>\n",
              "    </tr>\n",
              "    <tr>\n",
              "      <th>2020-01-05</th>\n",
              "      <td>0.608561</td>\n",
              "      <td>0.313675</td>\n",
              "      <td>0.963575</td>\n",
              "      <td>1.863890</td>\n",
              "    </tr>\n",
              "    <tr>\n",
              "      <th>2020-01-06</th>\n",
              "      <td>-1.717870</td>\n",
              "      <td>-0.246500</td>\n",
              "      <td>-0.579708</td>\n",
              "      <td>-1.514644</td>\n",
              "    </tr>\n",
              "  </tbody>\n",
              "</table>\n",
              "</div>"
            ],
            "text/plain": [
              "                   A         B         C         D\n",
              "2020-01-01  2.171689  0.624659  0.418400  0.001954\n",
              "2020-01-02 -1.417503 -2.463378 -0.626256  1.925952\n",
              "2020-01-03  2.510262  0.216759 -0.075037 -0.482804\n",
              "2020-01-04  0.813092 -0.365381  1.466618 -0.476270\n",
              "2020-01-05  0.608561  0.313675  0.963575  1.863890\n",
              "2020-01-06 -1.717870 -0.246500 -0.579708 -1.514644"
            ]
          },
          "metadata": {
            "tags": []
          },
          "execution_count": 25
        }
      ]
    },
    {
      "cell_type": "code",
      "metadata": {
        "colab": {
          "base_uri": "https://localhost:8080/"
        },
        "id": "m1Z_fMkjEsE3",
        "outputId": "1b744ba2-499c-4f29-e954-39c243331e88"
      },
      "source": [
        "\n",
        "df.iloc[0,0]"
      ],
      "execution_count": null,
      "outputs": [
        {
          "output_type": "execute_result",
          "data": {
            "text/plain": [
              "2.171689138434392"
            ]
          },
          "metadata": {
            "tags": []
          },
          "execution_count": 26
        }
      ]
    },
    {
      "cell_type": "markdown",
      "metadata": {
        "id": "h7-UvPmfBjAR"
      },
      "source": [
        "## Filtrar valores \n",
        "\n",
        "Mostrar los valores del dataFrame df cuyos valores sean mayor a 0 (cero)"
      ]
    },
    {
      "cell_type": "code",
      "metadata": {
        "colab": {
          "base_uri": "https://localhost:8080/",
          "height": 235
        },
        "id": "-FTJCZpsBlw5",
        "outputId": "7023d709-51b5-4b1b-8d10-11212b1684c4"
      },
      "source": [
        "\n",
        "df[df > 0]"
      ],
      "execution_count": null,
      "outputs": [
        {
          "output_type": "execute_result",
          "data": {
            "text/html": [
              "<div>\n",
              "<style scoped>\n",
              "    .dataframe tbody tr th:only-of-type {\n",
              "        vertical-align: middle;\n",
              "    }\n",
              "\n",
              "    .dataframe tbody tr th {\n",
              "        vertical-align: top;\n",
              "    }\n",
              "\n",
              "    .dataframe thead th {\n",
              "        text-align: right;\n",
              "    }\n",
              "</style>\n",
              "<table border=\"1\" class=\"dataframe\">\n",
              "  <thead>\n",
              "    <tr style=\"text-align: right;\">\n",
              "      <th></th>\n",
              "      <th>A</th>\n",
              "      <th>B</th>\n",
              "      <th>C</th>\n",
              "      <th>D</th>\n",
              "    </tr>\n",
              "  </thead>\n",
              "  <tbody>\n",
              "    <tr>\n",
              "      <th>2020-01-01</th>\n",
              "      <td>2.171689</td>\n",
              "      <td>0.624659</td>\n",
              "      <td>0.418400</td>\n",
              "      <td>0.001954</td>\n",
              "    </tr>\n",
              "    <tr>\n",
              "      <th>2020-01-02</th>\n",
              "      <td>NaN</td>\n",
              "      <td>NaN</td>\n",
              "      <td>NaN</td>\n",
              "      <td>1.925952</td>\n",
              "    </tr>\n",
              "    <tr>\n",
              "      <th>2020-01-03</th>\n",
              "      <td>2.510262</td>\n",
              "      <td>0.216759</td>\n",
              "      <td>NaN</td>\n",
              "      <td>NaN</td>\n",
              "    </tr>\n",
              "    <tr>\n",
              "      <th>2020-01-04</th>\n",
              "      <td>0.813092</td>\n",
              "      <td>NaN</td>\n",
              "      <td>1.466618</td>\n",
              "      <td>NaN</td>\n",
              "    </tr>\n",
              "    <tr>\n",
              "      <th>2020-01-05</th>\n",
              "      <td>0.608561</td>\n",
              "      <td>0.313675</td>\n",
              "      <td>0.963575</td>\n",
              "      <td>1.863890</td>\n",
              "    </tr>\n",
              "    <tr>\n",
              "      <th>2020-01-06</th>\n",
              "      <td>NaN</td>\n",
              "      <td>NaN</td>\n",
              "      <td>NaN</td>\n",
              "      <td>NaN</td>\n",
              "    </tr>\n",
              "  </tbody>\n",
              "</table>\n",
              "</div>"
            ],
            "text/plain": [
              "                   A         B         C         D\n",
              "2020-01-01  2.171689  0.624659  0.418400  0.001954\n",
              "2020-01-02       NaN       NaN       NaN  1.925952\n",
              "2020-01-03  2.510262  0.216759       NaN       NaN\n",
              "2020-01-04  0.813092       NaN  1.466618       NaN\n",
              "2020-01-05  0.608561  0.313675  0.963575  1.863890\n",
              "2020-01-06       NaN       NaN       NaN       NaN"
            ]
          },
          "metadata": {
            "tags": []
          },
          "execution_count": 27
        }
      ]
    },
    {
      "cell_type": "markdown",
      "metadata": {
        "id": "qCQQ56cACPYZ"
      },
      "source": [
        "Mostrar solo los valores del dataFrame df en los que cumplan con el criterio de que la columna A sea mayor a cero."
      ]
    },
    {
      "cell_type": "code",
      "metadata": {
        "colab": {
          "base_uri": "https://localhost:8080/",
          "height": 173
        },
        "id": "4ySSSYGDComg",
        "outputId": "a54f392d-22aa-4090-be0c-c416622f0793"
      },
      "source": [
        "df[df.A > 0]"
      ],
      "execution_count": null,
      "outputs": [
        {
          "output_type": "execute_result",
          "data": {
            "text/html": [
              "<div>\n",
              "<style scoped>\n",
              "    .dataframe tbody tr th:only-of-type {\n",
              "        vertical-align: middle;\n",
              "    }\n",
              "\n",
              "    .dataframe tbody tr th {\n",
              "        vertical-align: top;\n",
              "    }\n",
              "\n",
              "    .dataframe thead th {\n",
              "        text-align: right;\n",
              "    }\n",
              "</style>\n",
              "<table border=\"1\" class=\"dataframe\">\n",
              "  <thead>\n",
              "    <tr style=\"text-align: right;\">\n",
              "      <th></th>\n",
              "      <th>A</th>\n",
              "      <th>B</th>\n",
              "      <th>C</th>\n",
              "      <th>D</th>\n",
              "    </tr>\n",
              "  </thead>\n",
              "  <tbody>\n",
              "    <tr>\n",
              "      <th>2020-01-01</th>\n",
              "      <td>2.171689</td>\n",
              "      <td>0.624659</td>\n",
              "      <td>0.418400</td>\n",
              "      <td>0.001954</td>\n",
              "    </tr>\n",
              "    <tr>\n",
              "      <th>2020-01-03</th>\n",
              "      <td>2.510262</td>\n",
              "      <td>0.216759</td>\n",
              "      <td>-0.075037</td>\n",
              "      <td>-0.482804</td>\n",
              "    </tr>\n",
              "    <tr>\n",
              "      <th>2020-01-04</th>\n",
              "      <td>0.813092</td>\n",
              "      <td>-0.365381</td>\n",
              "      <td>1.466618</td>\n",
              "      <td>-0.476270</td>\n",
              "    </tr>\n",
              "    <tr>\n",
              "      <th>2020-01-05</th>\n",
              "      <td>0.608561</td>\n",
              "      <td>0.313675</td>\n",
              "      <td>0.963575</td>\n",
              "      <td>1.863890</td>\n",
              "    </tr>\n",
              "  </tbody>\n",
              "</table>\n",
              "</div>"
            ],
            "text/plain": [
              "                   A         B         C         D\n",
              "2020-01-01  2.171689  0.624659  0.418400  0.001954\n",
              "2020-01-03  2.510262  0.216759 -0.075037 -0.482804\n",
              "2020-01-04  0.813092 -0.365381  1.466618 -0.476270\n",
              "2020-01-05  0.608561  0.313675  0.963575  1.863890"
            ]
          },
          "metadata": {
            "tags": []
          },
          "execution_count": 28
        }
      ]
    },
    {
      "cell_type": "code",
      "metadata": {
        "colab": {
          "base_uri": "https://localhost:8080/",
          "height": 235
        },
        "id": "ZToTATfWSBhB",
        "outputId": "7ef20aba-5dd1-450c-d253-39f08c7350db"
      },
      "source": [
        "df"
      ],
      "execution_count": null,
      "outputs": [
        {
          "output_type": "execute_result",
          "data": {
            "text/html": [
              "<div>\n",
              "<style scoped>\n",
              "    .dataframe tbody tr th:only-of-type {\n",
              "        vertical-align: middle;\n",
              "    }\n",
              "\n",
              "    .dataframe tbody tr th {\n",
              "        vertical-align: top;\n",
              "    }\n",
              "\n",
              "    .dataframe thead th {\n",
              "        text-align: right;\n",
              "    }\n",
              "</style>\n",
              "<table border=\"1\" class=\"dataframe\">\n",
              "  <thead>\n",
              "    <tr style=\"text-align: right;\">\n",
              "      <th></th>\n",
              "      <th>A</th>\n",
              "      <th>B</th>\n",
              "      <th>C</th>\n",
              "      <th>D</th>\n",
              "    </tr>\n",
              "  </thead>\n",
              "  <tbody>\n",
              "    <tr>\n",
              "      <th>2020-01-01</th>\n",
              "      <td>2.171689</td>\n",
              "      <td>0.624659</td>\n",
              "      <td>0.418400</td>\n",
              "      <td>0.001954</td>\n",
              "    </tr>\n",
              "    <tr>\n",
              "      <th>2020-01-02</th>\n",
              "      <td>-1.417503</td>\n",
              "      <td>-2.463378</td>\n",
              "      <td>-0.626256</td>\n",
              "      <td>1.925952</td>\n",
              "    </tr>\n",
              "    <tr>\n",
              "      <th>2020-01-03</th>\n",
              "      <td>2.510262</td>\n",
              "      <td>0.216759</td>\n",
              "      <td>-0.075037</td>\n",
              "      <td>-0.482804</td>\n",
              "    </tr>\n",
              "    <tr>\n",
              "      <th>2020-01-04</th>\n",
              "      <td>0.813092</td>\n",
              "      <td>-0.365381</td>\n",
              "      <td>1.466618</td>\n",
              "      <td>-0.476270</td>\n",
              "    </tr>\n",
              "    <tr>\n",
              "      <th>2020-01-05</th>\n",
              "      <td>0.608561</td>\n",
              "      <td>0.313675</td>\n",
              "      <td>0.963575</td>\n",
              "      <td>1.863890</td>\n",
              "    </tr>\n",
              "    <tr>\n",
              "      <th>2020-01-06</th>\n",
              "      <td>-1.717870</td>\n",
              "      <td>-0.246500</td>\n",
              "      <td>-0.579708</td>\n",
              "      <td>-1.514644</td>\n",
              "    </tr>\n",
              "  </tbody>\n",
              "</table>\n",
              "</div>"
            ],
            "text/plain": [
              "                   A         B         C         D\n",
              "2020-01-01  2.171689  0.624659  0.418400  0.001954\n",
              "2020-01-02 -1.417503 -2.463378 -0.626256  1.925952\n",
              "2020-01-03  2.510262  0.216759 -0.075037 -0.482804\n",
              "2020-01-04  0.813092 -0.365381  1.466618 -0.476270\n",
              "2020-01-05  0.608561  0.313675  0.963575  1.863890\n",
              "2020-01-06 -1.717870 -0.246500 -0.579708 -1.514644"
            ]
          },
          "metadata": {
            "tags": []
          },
          "execution_count": 29
        }
      ]
    },
    {
      "cell_type": "markdown",
      "metadata": {
        "id": "1qiVWwOGC1GZ"
      },
      "source": [
        "Mostrar los valores del DataFrame df2 y en donde los valores de la columna E esten en la lista ['test','otro']"
      ]
    },
    {
      "cell_type": "code",
      "metadata": {
        "colab": {
          "base_uri": "https://localhost:8080/",
          "height": 111
        },
        "id": "vjqcnDiKC1aW",
        "outputId": "2205a1ae-8e44-4fe6-f3ca-a458a8eba55a"
      },
      "source": [
        "df2[df2['E'].isin(['test','otro'])]"
      ],
      "execution_count": null,
      "outputs": [
        {
          "output_type": "execute_result",
          "data": {
            "text/html": [
              "<div>\n",
              "<style scoped>\n",
              "    .dataframe tbody tr th:only-of-type {\n",
              "        vertical-align: middle;\n",
              "    }\n",
              "\n",
              "    .dataframe tbody tr th {\n",
              "        vertical-align: top;\n",
              "    }\n",
              "\n",
              "    .dataframe thead th {\n",
              "        text-align: right;\n",
              "    }\n",
              "</style>\n",
              "<table border=\"1\" class=\"dataframe\">\n",
              "  <thead>\n",
              "    <tr style=\"text-align: right;\">\n",
              "      <th></th>\n",
              "      <th>A</th>\n",
              "      <th>B</th>\n",
              "      <th>C</th>\n",
              "      <th>D</th>\n",
              "      <th>E</th>\n",
              "      <th>F</th>\n",
              "    </tr>\n",
              "  </thead>\n",
              "  <tbody>\n",
              "    <tr>\n",
              "      <th>0</th>\n",
              "      <td>1.0</td>\n",
              "      <td>2020-01-01</td>\n",
              "      <td>1.0</td>\n",
              "      <td>2.0</td>\n",
              "      <td>test</td>\n",
              "      <td>foo</td>\n",
              "    </tr>\n",
              "    <tr>\n",
              "      <th>2</th>\n",
              "      <td>1.0</td>\n",
              "      <td>2020-01-01</td>\n",
              "      <td>1.0</td>\n",
              "      <td>2.0</td>\n",
              "      <td>test</td>\n",
              "      <td>foo</td>\n",
              "    </tr>\n",
              "  </tbody>\n",
              "</table>\n",
              "</div>"
            ],
            "text/plain": [
              "     A          B    C    D     E    F\n",
              "0  1.0 2020-01-01  1.0  2.0  test  foo\n",
              "2  1.0 2020-01-01  1.0  2.0  test  foo"
            ]
          },
          "metadata": {
            "tags": []
          },
          "execution_count": 30
        }
      ]
    },
    {
      "cell_type": "code",
      "metadata": {
        "colab": {
          "base_uri": "https://localhost:8080/",
          "height": 173
        },
        "id": "cxVYiU-nSPek",
        "outputId": "1e36e516-4161-4594-a9a7-66ef1cf4fadc"
      },
      "source": [
        "df2"
      ],
      "execution_count": null,
      "outputs": [
        {
          "output_type": "execute_result",
          "data": {
            "text/html": [
              "<div>\n",
              "<style scoped>\n",
              "    .dataframe tbody tr th:only-of-type {\n",
              "        vertical-align: middle;\n",
              "    }\n",
              "\n",
              "    .dataframe tbody tr th {\n",
              "        vertical-align: top;\n",
              "    }\n",
              "\n",
              "    .dataframe thead th {\n",
              "        text-align: right;\n",
              "    }\n",
              "</style>\n",
              "<table border=\"1\" class=\"dataframe\">\n",
              "  <thead>\n",
              "    <tr style=\"text-align: right;\">\n",
              "      <th></th>\n",
              "      <th>A</th>\n",
              "      <th>B</th>\n",
              "      <th>C</th>\n",
              "      <th>D</th>\n",
              "      <th>E</th>\n",
              "      <th>F</th>\n",
              "    </tr>\n",
              "  </thead>\n",
              "  <tbody>\n",
              "    <tr>\n",
              "      <th>0</th>\n",
              "      <td>1.0</td>\n",
              "      <td>2020-01-01</td>\n",
              "      <td>1.0</td>\n",
              "      <td>2.0</td>\n",
              "      <td>test</td>\n",
              "      <td>foo</td>\n",
              "    </tr>\n",
              "    <tr>\n",
              "      <th>1</th>\n",
              "      <td>1.0</td>\n",
              "      <td>2020-01-01</td>\n",
              "      <td>1.0</td>\n",
              "      <td>2.0</td>\n",
              "      <td>train</td>\n",
              "      <td>foo</td>\n",
              "    </tr>\n",
              "    <tr>\n",
              "      <th>2</th>\n",
              "      <td>1.0</td>\n",
              "      <td>2020-01-01</td>\n",
              "      <td>1.0</td>\n",
              "      <td>2.0</td>\n",
              "      <td>test</td>\n",
              "      <td>foo</td>\n",
              "    </tr>\n",
              "    <tr>\n",
              "      <th>3</th>\n",
              "      <td>1.0</td>\n",
              "      <td>2020-01-01</td>\n",
              "      <td>1.0</td>\n",
              "      <td>2.0</td>\n",
              "      <td>train</td>\n",
              "      <td>foo</td>\n",
              "    </tr>\n",
              "  </tbody>\n",
              "</table>\n",
              "</div>"
            ],
            "text/plain": [
              "     A          B    C    D      E    F\n",
              "0  1.0 2020-01-01  1.0  2.0   test  foo\n",
              "1  1.0 2020-01-01  1.0  2.0  train  foo\n",
              "2  1.0 2020-01-01  1.0  2.0   test  foo\n",
              "3  1.0 2020-01-01  1.0  2.0  train  foo"
            ]
          },
          "metadata": {
            "tags": []
          },
          "execution_count": 31
        }
      ]
    },
    {
      "cell_type": "markdown",
      "metadata": {
        "id": "-Py459DQFj7I"
      },
      "source": [
        " ## Información  faltante"
      ]
    },
    {
      "cell_type": "code",
      "metadata": {
        "colab": {
          "base_uri": "https://localhost:8080/",
          "height": 235
        },
        "id": "F25Z3NhiFvHj",
        "outputId": "18529201-7c53-4d12-f5ef-8655be468ead"
      },
      "source": [
        "df3=df[df > -.9]\n",
        "df3"
      ],
      "execution_count": null,
      "outputs": [
        {
          "output_type": "execute_result",
          "data": {
            "text/html": [
              "<div>\n",
              "<style scoped>\n",
              "    .dataframe tbody tr th:only-of-type {\n",
              "        vertical-align: middle;\n",
              "    }\n",
              "\n",
              "    .dataframe tbody tr th {\n",
              "        vertical-align: top;\n",
              "    }\n",
              "\n",
              "    .dataframe thead th {\n",
              "        text-align: right;\n",
              "    }\n",
              "</style>\n",
              "<table border=\"1\" class=\"dataframe\">\n",
              "  <thead>\n",
              "    <tr style=\"text-align: right;\">\n",
              "      <th></th>\n",
              "      <th>A</th>\n",
              "      <th>B</th>\n",
              "      <th>C</th>\n",
              "      <th>D</th>\n",
              "    </tr>\n",
              "  </thead>\n",
              "  <tbody>\n",
              "    <tr>\n",
              "      <th>2020-01-01</th>\n",
              "      <td>2.171689</td>\n",
              "      <td>0.624659</td>\n",
              "      <td>0.418400</td>\n",
              "      <td>0.001954</td>\n",
              "    </tr>\n",
              "    <tr>\n",
              "      <th>2020-01-02</th>\n",
              "      <td>NaN</td>\n",
              "      <td>NaN</td>\n",
              "      <td>-0.626256</td>\n",
              "      <td>1.925952</td>\n",
              "    </tr>\n",
              "    <tr>\n",
              "      <th>2020-01-03</th>\n",
              "      <td>2.510262</td>\n",
              "      <td>0.216759</td>\n",
              "      <td>-0.075037</td>\n",
              "      <td>-0.482804</td>\n",
              "    </tr>\n",
              "    <tr>\n",
              "      <th>2020-01-04</th>\n",
              "      <td>0.813092</td>\n",
              "      <td>-0.365381</td>\n",
              "      <td>1.466618</td>\n",
              "      <td>-0.476270</td>\n",
              "    </tr>\n",
              "    <tr>\n",
              "      <th>2020-01-05</th>\n",
              "      <td>0.608561</td>\n",
              "      <td>0.313675</td>\n",
              "      <td>0.963575</td>\n",
              "      <td>1.863890</td>\n",
              "    </tr>\n",
              "    <tr>\n",
              "      <th>2020-01-06</th>\n",
              "      <td>NaN</td>\n",
              "      <td>-0.246500</td>\n",
              "      <td>-0.579708</td>\n",
              "      <td>NaN</td>\n",
              "    </tr>\n",
              "  </tbody>\n",
              "</table>\n",
              "</div>"
            ],
            "text/plain": [
              "                   A         B         C         D\n",
              "2020-01-01  2.171689  0.624659  0.418400  0.001954\n",
              "2020-01-02       NaN       NaN -0.626256  1.925952\n",
              "2020-01-03  2.510262  0.216759 -0.075037 -0.482804\n",
              "2020-01-04  0.813092 -0.365381  1.466618 -0.476270\n",
              "2020-01-05  0.608561  0.313675  0.963575  1.863890\n",
              "2020-01-06       NaN -0.246500 -0.579708       NaN"
            ]
          },
          "metadata": {
            "tags": []
          },
          "execution_count": 36
        }
      ]
    },
    {
      "cell_type": "markdown",
      "metadata": {
        "id": "1rWasDaDFnqO"
      },
      "source": [
        "Eliminar el renglon en donde no haya información en la columna A del data frame df3."
      ]
    },
    {
      "cell_type": "code",
      "metadata": {
        "colab": {
          "base_uri": "https://localhost:8080/",
          "height": 173
        },
        "id": "Xfc_OFzkF8xz",
        "outputId": "60e06ebe-089b-4eb5-af1a-58828ac08af8"
      },
      "source": [
        "df3.dropna(how='any')"
      ],
      "execution_count": null,
      "outputs": [
        {
          "output_type": "execute_result",
          "data": {
            "text/html": [
              "<div>\n",
              "<style scoped>\n",
              "    .dataframe tbody tr th:only-of-type {\n",
              "        vertical-align: middle;\n",
              "    }\n",
              "\n",
              "    .dataframe tbody tr th {\n",
              "        vertical-align: top;\n",
              "    }\n",
              "\n",
              "    .dataframe thead th {\n",
              "        text-align: right;\n",
              "    }\n",
              "</style>\n",
              "<table border=\"1\" class=\"dataframe\">\n",
              "  <thead>\n",
              "    <tr style=\"text-align: right;\">\n",
              "      <th></th>\n",
              "      <th>A</th>\n",
              "      <th>B</th>\n",
              "      <th>C</th>\n",
              "      <th>D</th>\n",
              "    </tr>\n",
              "  </thead>\n",
              "  <tbody>\n",
              "    <tr>\n",
              "      <th>2020-01-01</th>\n",
              "      <td>2.171689</td>\n",
              "      <td>0.624659</td>\n",
              "      <td>0.418400</td>\n",
              "      <td>0.001954</td>\n",
              "    </tr>\n",
              "    <tr>\n",
              "      <th>2020-01-03</th>\n",
              "      <td>2.510262</td>\n",
              "      <td>0.216759</td>\n",
              "      <td>-0.075037</td>\n",
              "      <td>-0.482804</td>\n",
              "    </tr>\n",
              "    <tr>\n",
              "      <th>2020-01-04</th>\n",
              "      <td>0.813092</td>\n",
              "      <td>-0.365381</td>\n",
              "      <td>1.466618</td>\n",
              "      <td>-0.476270</td>\n",
              "    </tr>\n",
              "    <tr>\n",
              "      <th>2020-01-05</th>\n",
              "      <td>0.608561</td>\n",
              "      <td>0.313675</td>\n",
              "      <td>0.963575</td>\n",
              "      <td>1.863890</td>\n",
              "    </tr>\n",
              "  </tbody>\n",
              "</table>\n",
              "</div>"
            ],
            "text/plain": [
              "                   A         B         C         D\n",
              "2020-01-01  2.171689  0.624659  0.418400  0.001954\n",
              "2020-01-03  2.510262  0.216759 -0.075037 -0.482804\n",
              "2020-01-04  0.813092 -0.365381  1.466618 -0.476270\n",
              "2020-01-05  0.608561  0.313675  0.963575  1.863890"
            ]
          },
          "metadata": {
            "tags": []
          },
          "execution_count": 37
        }
      ]
    },
    {
      "cell_type": "code",
      "metadata": {
        "colab": {
          "base_uri": "https://localhost:8080/",
          "height": 235
        },
        "id": "6ENvJs1JvPBz",
        "outputId": "90d3ca31-8021-4802-a482-105af21939ea"
      },
      "source": [
        "df3"
      ],
      "execution_count": null,
      "outputs": [
        {
          "output_type": "execute_result",
          "data": {
            "text/html": [
              "<div>\n",
              "<style scoped>\n",
              "    .dataframe tbody tr th:only-of-type {\n",
              "        vertical-align: middle;\n",
              "    }\n",
              "\n",
              "    .dataframe tbody tr th {\n",
              "        vertical-align: top;\n",
              "    }\n",
              "\n",
              "    .dataframe thead th {\n",
              "        text-align: right;\n",
              "    }\n",
              "</style>\n",
              "<table border=\"1\" class=\"dataframe\">\n",
              "  <thead>\n",
              "    <tr style=\"text-align: right;\">\n",
              "      <th></th>\n",
              "      <th>A</th>\n",
              "      <th>B</th>\n",
              "      <th>C</th>\n",
              "      <th>D</th>\n",
              "    </tr>\n",
              "  </thead>\n",
              "  <tbody>\n",
              "    <tr>\n",
              "      <th>2020-01-01</th>\n",
              "      <td>2.171689</td>\n",
              "      <td>0.624659</td>\n",
              "      <td>0.418400</td>\n",
              "      <td>0.001954</td>\n",
              "    </tr>\n",
              "    <tr>\n",
              "      <th>2020-01-02</th>\n",
              "      <td>NaN</td>\n",
              "      <td>NaN</td>\n",
              "      <td>-0.626256</td>\n",
              "      <td>1.925952</td>\n",
              "    </tr>\n",
              "    <tr>\n",
              "      <th>2020-01-03</th>\n",
              "      <td>2.510262</td>\n",
              "      <td>0.216759</td>\n",
              "      <td>-0.075037</td>\n",
              "      <td>-0.482804</td>\n",
              "    </tr>\n",
              "    <tr>\n",
              "      <th>2020-01-04</th>\n",
              "      <td>0.813092</td>\n",
              "      <td>-0.365381</td>\n",
              "      <td>1.466618</td>\n",
              "      <td>-0.476270</td>\n",
              "    </tr>\n",
              "    <tr>\n",
              "      <th>2020-01-05</th>\n",
              "      <td>0.608561</td>\n",
              "      <td>0.313675</td>\n",
              "      <td>0.963575</td>\n",
              "      <td>1.863890</td>\n",
              "    </tr>\n",
              "    <tr>\n",
              "      <th>2020-01-06</th>\n",
              "      <td>NaN</td>\n",
              "      <td>-0.246500</td>\n",
              "      <td>-0.579708</td>\n",
              "      <td>NaN</td>\n",
              "    </tr>\n",
              "  </tbody>\n",
              "</table>\n",
              "</div>"
            ],
            "text/plain": [
              "                   A         B         C         D\n",
              "2020-01-01  2.171689  0.624659  0.418400  0.001954\n",
              "2020-01-02       NaN       NaN -0.626256  1.925952\n",
              "2020-01-03  2.510262  0.216759 -0.075037 -0.482804\n",
              "2020-01-04  0.813092 -0.365381  1.466618 -0.476270\n",
              "2020-01-05  0.608561  0.313675  0.963575  1.863890\n",
              "2020-01-06       NaN -0.246500 -0.579708       NaN"
            ]
          },
          "metadata": {
            "tags": []
          },
          "execution_count": 39
        }
      ]
    },
    {
      "cell_type": "markdown",
      "metadata": {
        "id": "GL6B2A55GTjG"
      },
      "source": [
        "Rellenar con el valor de 10 los valores \"NaN\""
      ]
    },
    {
      "cell_type": "code",
      "metadata": {
        "colab": {
          "base_uri": "https://localhost:8080/",
          "height": 235
        },
        "id": "ATFZX8CLGUE4",
        "outputId": "e65cc30c-2c59-487c-eaa2-e7f9bdcddf22"
      },
      "source": [
        "df3.fillna(value=10)"
      ],
      "execution_count": null,
      "outputs": [
        {
          "output_type": "execute_result",
          "data": {
            "text/html": [
              "<div>\n",
              "<style scoped>\n",
              "    .dataframe tbody tr th:only-of-type {\n",
              "        vertical-align: middle;\n",
              "    }\n",
              "\n",
              "    .dataframe tbody tr th {\n",
              "        vertical-align: top;\n",
              "    }\n",
              "\n",
              "    .dataframe thead th {\n",
              "        text-align: right;\n",
              "    }\n",
              "</style>\n",
              "<table border=\"1\" class=\"dataframe\">\n",
              "  <thead>\n",
              "    <tr style=\"text-align: right;\">\n",
              "      <th></th>\n",
              "      <th>A</th>\n",
              "      <th>B</th>\n",
              "      <th>C</th>\n",
              "      <th>D</th>\n",
              "    </tr>\n",
              "  </thead>\n",
              "  <tbody>\n",
              "    <tr>\n",
              "      <th>2020-01-01</th>\n",
              "      <td>2.171689</td>\n",
              "      <td>0.624659</td>\n",
              "      <td>0.418400</td>\n",
              "      <td>0.001954</td>\n",
              "    </tr>\n",
              "    <tr>\n",
              "      <th>2020-01-02</th>\n",
              "      <td>10.000000</td>\n",
              "      <td>10.000000</td>\n",
              "      <td>-0.626256</td>\n",
              "      <td>1.925952</td>\n",
              "    </tr>\n",
              "    <tr>\n",
              "      <th>2020-01-03</th>\n",
              "      <td>2.510262</td>\n",
              "      <td>0.216759</td>\n",
              "      <td>-0.075037</td>\n",
              "      <td>-0.482804</td>\n",
              "    </tr>\n",
              "    <tr>\n",
              "      <th>2020-01-04</th>\n",
              "      <td>0.813092</td>\n",
              "      <td>-0.365381</td>\n",
              "      <td>1.466618</td>\n",
              "      <td>-0.476270</td>\n",
              "    </tr>\n",
              "    <tr>\n",
              "      <th>2020-01-05</th>\n",
              "      <td>0.608561</td>\n",
              "      <td>0.313675</td>\n",
              "      <td>0.963575</td>\n",
              "      <td>1.863890</td>\n",
              "    </tr>\n",
              "    <tr>\n",
              "      <th>2020-01-06</th>\n",
              "      <td>10.000000</td>\n",
              "      <td>-0.246500</td>\n",
              "      <td>-0.579708</td>\n",
              "      <td>10.000000</td>\n",
              "    </tr>\n",
              "  </tbody>\n",
              "</table>\n",
              "</div>"
            ],
            "text/plain": [
              "                    A          B         C          D\n",
              "2020-01-01   2.171689   0.624659  0.418400   0.001954\n",
              "2020-01-02  10.000000  10.000000 -0.626256   1.925952\n",
              "2020-01-03   2.510262   0.216759 -0.075037  -0.482804\n",
              "2020-01-04   0.813092  -0.365381  1.466618  -0.476270\n",
              "2020-01-05   0.608561   0.313675  0.963575   1.863890\n",
              "2020-01-06  10.000000  -0.246500 -0.579708  10.000000"
            ]
          },
          "metadata": {
            "tags": []
          },
          "execution_count": 40
        }
      ]
    },
    {
      "cell_type": "markdown",
      "metadata": {
        "id": "oZwu4gn2Ki4p"
      },
      "source": [
        "# 3. Funciones"
      ]
    },
    {
      "cell_type": "markdown",
      "metadata": {
        "id": "ECWmipbIKkks"
      },
      "source": [
        "## Descripción\n",
        "\n",
        " - Una función se crea utilizando ``def`` seguido del nombre de la función y los parámetros de la función entre paréntesis.\n",
        " - Se puede asignar valores predeterminados para los parámetros.\n",
        " - Es muy importante la identación. Python no utiliza llaves para definir los niveles. \n",
        " - Para salir de la función, se utiliza la expresión ``return``. \n",
        "\n",
        "Ejemplo:Función que suma x+y cuando z no esta presenta sino suma x+y+z\n",
        "  ```\n",
        "  def add_numbers(x,y,z=None):\n",
        "    if (z==None):\n",
        "        return x+y\n",
        "    else:\n",
        "        return x+y+z\n",
        "\n",
        "print(add_numbers(1, 2))\n",
        "print(add_numbers(1, 2, 3))\n",
        "```"
      ]
    },
    {
      "cell_type": "code",
      "metadata": {
        "colab": {
          "base_uri": "https://localhost:8080/"
        },
        "id": "pfV-exCey4t7",
        "outputId": "dc40eb01-3a4c-46dd-84ff-74b6c96de75b"
      },
      "source": [
        " def add_numbers(x,y,z=None):\n",
        "    if (z==None):\n",
        "        return x+y\n",
        "    else:\n",
        "        return x+y+z\n",
        " \n",
        "print(add_numbers(1, 2))\n",
        "print(add_numbers(1, 2, 3))"
      ],
      "execution_count": null,
      "outputs": [
        {
          "output_type": "stream",
          "text": [
            "3\n",
            "6\n"
          ],
          "name": "stdout"
        }
      ]
    },
    {
      "cell_type": "markdown",
      "metadata": {
        "id": "EiI9_MUlPiV1"
      },
      "source": [
        "# 4. Agrupadores"
      ]
    },
    {
      "cell_type": "code",
      "metadata": {
        "id": "X4LCgnpmPmKo"
      },
      "source": [
        " df4 = pd.DataFrame({'A': ['foo', 'bar', 'foo', 'bar','foo', 'bar', 'foo', 'foo'],\n",
        "                    'B': ['one', 'one', 'two', 'three',\n",
        "                    'two', 'two', 'one', 'three'],\n",
        "                    'C': np.random.randn(8),\n",
        "                    'D': np.random.randn(8)})"
      ],
      "execution_count": null,
      "outputs": []
    },
    {
      "cell_type": "markdown",
      "metadata": {
        "id": "HU_wnquNQIk1"
      },
      "source": [
        "Agrupar la tabla df4 con base a la columna A y realizar la suma de la columna Cy D"
      ]
    },
    {
      "cell_type": "code",
      "metadata": {
        "colab": {
          "base_uri": "https://localhost:8080/",
          "height": 284
        },
        "id": "AhZxUkSoQCC8",
        "outputId": "8331c729-92a3-4117-8943-33611dc0319f"
      },
      "source": [
        "df4"
      ],
      "execution_count": null,
      "outputs": [
        {
          "output_type": "execute_result",
          "data": {
            "text/html": [
              "<div>\n",
              "<style scoped>\n",
              "    .dataframe tbody tr th:only-of-type {\n",
              "        vertical-align: middle;\n",
              "    }\n",
              "\n",
              "    .dataframe tbody tr th {\n",
              "        vertical-align: top;\n",
              "    }\n",
              "\n",
              "    .dataframe thead th {\n",
              "        text-align: right;\n",
              "    }\n",
              "</style>\n",
              "<table border=\"1\" class=\"dataframe\">\n",
              "  <thead>\n",
              "    <tr style=\"text-align: right;\">\n",
              "      <th></th>\n",
              "      <th>A</th>\n",
              "      <th>B</th>\n",
              "      <th>C</th>\n",
              "      <th>D</th>\n",
              "    </tr>\n",
              "  </thead>\n",
              "  <tbody>\n",
              "    <tr>\n",
              "      <th>0</th>\n",
              "      <td>foo</td>\n",
              "      <td>one</td>\n",
              "      <td>0.419864</td>\n",
              "      <td>0.181204</td>\n",
              "    </tr>\n",
              "    <tr>\n",
              "      <th>1</th>\n",
              "      <td>bar</td>\n",
              "      <td>one</td>\n",
              "      <td>0.190399</td>\n",
              "      <td>0.381685</td>\n",
              "    </tr>\n",
              "    <tr>\n",
              "      <th>2</th>\n",
              "      <td>foo</td>\n",
              "      <td>two</td>\n",
              "      <td>1.421105</td>\n",
              "      <td>-0.783413</td>\n",
              "    </tr>\n",
              "    <tr>\n",
              "      <th>3</th>\n",
              "      <td>bar</td>\n",
              "      <td>three</td>\n",
              "      <td>0.619202</td>\n",
              "      <td>-1.544783</td>\n",
              "    </tr>\n",
              "    <tr>\n",
              "      <th>4</th>\n",
              "      <td>foo</td>\n",
              "      <td>two</td>\n",
              "      <td>0.229839</td>\n",
              "      <td>0.551049</td>\n",
              "    </tr>\n",
              "    <tr>\n",
              "      <th>5</th>\n",
              "      <td>bar</td>\n",
              "      <td>two</td>\n",
              "      <td>1.131971</td>\n",
              "      <td>1.120125</td>\n",
              "    </tr>\n",
              "    <tr>\n",
              "      <th>6</th>\n",
              "      <td>foo</td>\n",
              "      <td>one</td>\n",
              "      <td>1.729932</td>\n",
              "      <td>1.125409</td>\n",
              "    </tr>\n",
              "    <tr>\n",
              "      <th>7</th>\n",
              "      <td>foo</td>\n",
              "      <td>three</td>\n",
              "      <td>1.377578</td>\n",
              "      <td>1.871358</td>\n",
              "    </tr>\n",
              "  </tbody>\n",
              "</table>\n",
              "</div>"
            ],
            "text/plain": [
              "     A      B         C         D\n",
              "0  foo    one  0.419864  0.181204\n",
              "1  bar    one  0.190399  0.381685\n",
              "2  foo    two  1.421105 -0.783413\n",
              "3  bar  three  0.619202 -1.544783\n",
              "4  foo    two  0.229839  0.551049\n",
              "5  bar    two  1.131971  1.120125\n",
              "6  foo    one  1.729932  1.125409\n",
              "7  foo  three  1.377578  1.871358"
            ]
          },
          "metadata": {
            "tags": []
          },
          "execution_count": 52
        }
      ]
    },
    {
      "cell_type": "code",
      "metadata": {
        "colab": {
          "base_uri": "https://localhost:8080/",
          "height": 136
        },
        "id": "FUDfT4HKP5fK",
        "outputId": "72d4fb28-f29f-43db-b5cb-2cd7a9429174"
      },
      "source": [
        "df4.groupby('A').sum()\n"
      ],
      "execution_count": null,
      "outputs": [
        {
          "output_type": "execute_result",
          "data": {
            "text/html": [
              "<div>\n",
              "<style scoped>\n",
              "    .dataframe tbody tr th:only-of-type {\n",
              "        vertical-align: middle;\n",
              "    }\n",
              "\n",
              "    .dataframe tbody tr th {\n",
              "        vertical-align: top;\n",
              "    }\n",
              "\n",
              "    .dataframe thead th {\n",
              "        text-align: right;\n",
              "    }\n",
              "</style>\n",
              "<table border=\"1\" class=\"dataframe\">\n",
              "  <thead>\n",
              "    <tr style=\"text-align: right;\">\n",
              "      <th></th>\n",
              "      <th>C</th>\n",
              "      <th>D</th>\n",
              "    </tr>\n",
              "    <tr>\n",
              "      <th>A</th>\n",
              "      <th></th>\n",
              "      <th></th>\n",
              "    </tr>\n",
              "  </thead>\n",
              "  <tbody>\n",
              "    <tr>\n",
              "      <th>bar</th>\n",
              "      <td>1.941572</td>\n",
              "      <td>-0.042973</td>\n",
              "    </tr>\n",
              "    <tr>\n",
              "      <th>foo</th>\n",
              "      <td>5.178317</td>\n",
              "      <td>2.945607</td>\n",
              "    </tr>\n",
              "  </tbody>\n",
              "</table>\n",
              "</div>"
            ],
            "text/plain": [
              "            C         D\n",
              "A                      \n",
              "bar  1.941572 -0.042973\n",
              "foo  5.178317  2.945607"
            ]
          },
          "metadata": {
            "tags": []
          },
          "execution_count": 53
        }
      ]
    },
    {
      "cell_type": "code",
      "metadata": {
        "colab": {
          "base_uri": "https://localhost:8080/",
          "height": 136
        },
        "id": "mG0-HxLEavXU",
        "outputId": "a2539795-2350-42c3-ec1f-794d89918bac"
      },
      "source": [
        "df4.groupby('A').mean()"
      ],
      "execution_count": null,
      "outputs": [
        {
          "output_type": "execute_result",
          "data": {
            "text/html": [
              "<div>\n",
              "<style scoped>\n",
              "    .dataframe tbody tr th:only-of-type {\n",
              "        vertical-align: middle;\n",
              "    }\n",
              "\n",
              "    .dataframe tbody tr th {\n",
              "        vertical-align: top;\n",
              "    }\n",
              "\n",
              "    .dataframe thead th {\n",
              "        text-align: right;\n",
              "    }\n",
              "</style>\n",
              "<table border=\"1\" class=\"dataframe\">\n",
              "  <thead>\n",
              "    <tr style=\"text-align: right;\">\n",
              "      <th></th>\n",
              "      <th>C</th>\n",
              "      <th>D</th>\n",
              "    </tr>\n",
              "    <tr>\n",
              "      <th>A</th>\n",
              "      <th></th>\n",
              "      <th></th>\n",
              "    </tr>\n",
              "  </thead>\n",
              "  <tbody>\n",
              "    <tr>\n",
              "      <th>bar</th>\n",
              "      <td>0.647191</td>\n",
              "      <td>-0.014324</td>\n",
              "    </tr>\n",
              "    <tr>\n",
              "      <th>foo</th>\n",
              "      <td>1.035663</td>\n",
              "      <td>0.589121</td>\n",
              "    </tr>\n",
              "  </tbody>\n",
              "</table>\n",
              "</div>"
            ],
            "text/plain": [
              "            C         D\n",
              "A                      \n",
              "bar  0.647191 -0.014324\n",
              "foo  1.035663  0.589121"
            ]
          },
          "metadata": {
            "tags": []
          },
          "execution_count": 54
        }
      ]
    },
    {
      "cell_type": "markdown",
      "metadata": {
        "id": "RUoEsK46QbXr"
      },
      "source": [
        "Agrupar la tabla df4 con base a la columna A y B además realizar la suma de la columna Cy D"
      ]
    },
    {
      "cell_type": "code",
      "metadata": {
        "colab": {
          "base_uri": "https://localhost:8080/",
          "height": 254
        },
        "id": "toHYVDzaQR5U",
        "outputId": "be5798f5-4027-41a1-f856-2154c9b4abb2"
      },
      "source": [
        "df4.groupby(['A','B']).sum()"
      ],
      "execution_count": null,
      "outputs": [
        {
          "output_type": "execute_result",
          "data": {
            "text/html": [
              "<div>\n",
              "<style scoped>\n",
              "    .dataframe tbody tr th:only-of-type {\n",
              "        vertical-align: middle;\n",
              "    }\n",
              "\n",
              "    .dataframe tbody tr th {\n",
              "        vertical-align: top;\n",
              "    }\n",
              "\n",
              "    .dataframe thead th {\n",
              "        text-align: right;\n",
              "    }\n",
              "</style>\n",
              "<table border=\"1\" class=\"dataframe\">\n",
              "  <thead>\n",
              "    <tr style=\"text-align: right;\">\n",
              "      <th></th>\n",
              "      <th></th>\n",
              "      <th>C</th>\n",
              "      <th>D</th>\n",
              "    </tr>\n",
              "    <tr>\n",
              "      <th>A</th>\n",
              "      <th>B</th>\n",
              "      <th></th>\n",
              "      <th></th>\n",
              "    </tr>\n",
              "  </thead>\n",
              "  <tbody>\n",
              "    <tr>\n",
              "      <th rowspan=\"3\" valign=\"top\">bar</th>\n",
              "      <th>one</th>\n",
              "      <td>0.190399</td>\n",
              "      <td>0.381685</td>\n",
              "    </tr>\n",
              "    <tr>\n",
              "      <th>three</th>\n",
              "      <td>0.619202</td>\n",
              "      <td>-1.544783</td>\n",
              "    </tr>\n",
              "    <tr>\n",
              "      <th>two</th>\n",
              "      <td>1.131971</td>\n",
              "      <td>1.120125</td>\n",
              "    </tr>\n",
              "    <tr>\n",
              "      <th rowspan=\"3\" valign=\"top\">foo</th>\n",
              "      <th>one</th>\n",
              "      <td>2.149796</td>\n",
              "      <td>1.306613</td>\n",
              "    </tr>\n",
              "    <tr>\n",
              "      <th>three</th>\n",
              "      <td>1.377578</td>\n",
              "      <td>1.871358</td>\n",
              "    </tr>\n",
              "    <tr>\n",
              "      <th>two</th>\n",
              "      <td>1.650943</td>\n",
              "      <td>-0.232364</td>\n",
              "    </tr>\n",
              "  </tbody>\n",
              "</table>\n",
              "</div>"
            ],
            "text/plain": [
              "                  C         D\n",
              "A   B                        \n",
              "bar one    0.190399  0.381685\n",
              "    three  0.619202 -1.544783\n",
              "    two    1.131971  1.120125\n",
              "foo one    2.149796  1.306613\n",
              "    three  1.377578  1.871358\n",
              "    two    1.650943 -0.232364"
            ]
          },
          "metadata": {
            "tags": []
          },
          "execution_count": 55
        }
      ]
    },
    {
      "cell_type": "markdown",
      "metadata": {
        "id": "JXkXn4JmblSR"
      },
      "source": [
        "# 4.1 Ordenar"
      ]
    },
    {
      "cell_type": "markdown",
      "metadata": {
        "id": "SBBdq_I3brqo"
      },
      "source": [
        "Ordenar con base en una variable"
      ]
    },
    {
      "cell_type": "code",
      "metadata": {
        "colab": {
          "base_uri": "https://localhost:8080/",
          "height": 136
        },
        "id": "BnJtcNsqbpxM",
        "outputId": "c8fd37c5-eb1a-487d-e6a7-456482bf26a9"
      },
      "source": [
        "ordenA= df4.groupby('A').sum()\n",
        "ordenA=ordenA.sort_values(by='A', ascending=False)\n",
        "ordenA"
      ],
      "execution_count": null,
      "outputs": [
        {
          "output_type": "execute_result",
          "data": {
            "text/html": [
              "<div>\n",
              "<style scoped>\n",
              "    .dataframe tbody tr th:only-of-type {\n",
              "        vertical-align: middle;\n",
              "    }\n",
              "\n",
              "    .dataframe tbody tr th {\n",
              "        vertical-align: top;\n",
              "    }\n",
              "\n",
              "    .dataframe thead th {\n",
              "        text-align: right;\n",
              "    }\n",
              "</style>\n",
              "<table border=\"1\" class=\"dataframe\">\n",
              "  <thead>\n",
              "    <tr style=\"text-align: right;\">\n",
              "      <th></th>\n",
              "      <th>C</th>\n",
              "      <th>D</th>\n",
              "    </tr>\n",
              "    <tr>\n",
              "      <th>A</th>\n",
              "      <th></th>\n",
              "      <th></th>\n",
              "    </tr>\n",
              "  </thead>\n",
              "  <tbody>\n",
              "    <tr>\n",
              "      <th>foo</th>\n",
              "      <td>5.178317</td>\n",
              "      <td>2.945607</td>\n",
              "    </tr>\n",
              "    <tr>\n",
              "      <th>bar</th>\n",
              "      <td>1.941572</td>\n",
              "      <td>-0.042973</td>\n",
              "    </tr>\n",
              "  </tbody>\n",
              "</table>\n",
              "</div>"
            ],
            "text/plain": [
              "            C         D\n",
              "A                      \n",
              "foo  5.178317  2.945607\n",
              "bar  1.941572 -0.042973"
            ]
          },
          "metadata": {
            "tags": []
          },
          "execution_count": 57
        }
      ]
    },
    {
      "cell_type": "markdown",
      "metadata": {
        "id": "SFEoWvqDbva8"
      },
      "source": [
        "Ordenar con base en varias variables"
      ]
    },
    {
      "cell_type": "code",
      "metadata": {
        "colab": {
          "base_uri": "https://localhost:8080/",
          "height": 254
        },
        "id": "r15tauLpbvx7",
        "outputId": "388c2306-c142-4edd-adee-7a2a052f96e6"
      },
      "source": [
        "ordenA= df4.groupby(['A','B']).sum()\n",
        "ordenA=ordenA.sort_values(by=['A','B'], ascending=True)\n",
        "ordenA"
      ],
      "execution_count": null,
      "outputs": [
        {
          "output_type": "execute_result",
          "data": {
            "text/html": [
              "<div>\n",
              "<style scoped>\n",
              "    .dataframe tbody tr th:only-of-type {\n",
              "        vertical-align: middle;\n",
              "    }\n",
              "\n",
              "    .dataframe tbody tr th {\n",
              "        vertical-align: top;\n",
              "    }\n",
              "\n",
              "    .dataframe thead th {\n",
              "        text-align: right;\n",
              "    }\n",
              "</style>\n",
              "<table border=\"1\" class=\"dataframe\">\n",
              "  <thead>\n",
              "    <tr style=\"text-align: right;\">\n",
              "      <th></th>\n",
              "      <th></th>\n",
              "      <th>C</th>\n",
              "      <th>D</th>\n",
              "    </tr>\n",
              "    <tr>\n",
              "      <th>A</th>\n",
              "      <th>B</th>\n",
              "      <th></th>\n",
              "      <th></th>\n",
              "    </tr>\n",
              "  </thead>\n",
              "  <tbody>\n",
              "    <tr>\n",
              "      <th rowspan=\"3\" valign=\"top\">bar</th>\n",
              "      <th>one</th>\n",
              "      <td>0.190399</td>\n",
              "      <td>0.381685</td>\n",
              "    </tr>\n",
              "    <tr>\n",
              "      <th>three</th>\n",
              "      <td>0.619202</td>\n",
              "      <td>-1.544783</td>\n",
              "    </tr>\n",
              "    <tr>\n",
              "      <th>two</th>\n",
              "      <td>1.131971</td>\n",
              "      <td>1.120125</td>\n",
              "    </tr>\n",
              "    <tr>\n",
              "      <th rowspan=\"3\" valign=\"top\">foo</th>\n",
              "      <th>one</th>\n",
              "      <td>2.149796</td>\n",
              "      <td>1.306613</td>\n",
              "    </tr>\n",
              "    <tr>\n",
              "      <th>three</th>\n",
              "      <td>1.377578</td>\n",
              "      <td>1.871358</td>\n",
              "    </tr>\n",
              "    <tr>\n",
              "      <th>two</th>\n",
              "      <td>1.650943</td>\n",
              "      <td>-0.232364</td>\n",
              "    </tr>\n",
              "  </tbody>\n",
              "</table>\n",
              "</div>"
            ],
            "text/plain": [
              "                  C         D\n",
              "A   B                        \n",
              "bar one    0.190399  0.381685\n",
              "    three  0.619202 -1.544783\n",
              "    two    1.131971  1.120125\n",
              "foo one    2.149796  1.306613\n",
              "    three  1.377578  1.871358\n",
              "    two    1.650943 -0.232364"
            ]
          },
          "metadata": {
            "tags": []
          },
          "execution_count": 59
        }
      ]
    },
    {
      "cell_type": "markdown",
      "metadata": {
        "id": "CH4h-l1YQw9y"
      },
      "source": [
        "# 5. Union ( Merges)"
      ]
    },
    {
      "cell_type": "markdown",
      "metadata": {
        "id": "nW5_kpBbTreL"
      },
      "source": [
        "DataFrame.merge(left, \n",
        "  right, \n",
        "  how='inner', \n",
        "  on=None, \n",
        "  left_on=None, \n",
        "  right_on=None, \n",
        "  left_index=False, \n",
        "  right_index=False, \n",
        "  sort=False, \n",
        "  suffixes=('_x', '_y'), \n",
        "  copy=True, \n",
        "  indicator=False, \n",
        "  validate=None)[source]\n",
        "Merge DataFrame or named Series objects with a database-style join.\n",
        "\n"
      ]
    },
    {
      "cell_type": "code",
      "metadata": {
        "colab": {
          "base_uri": "https://localhost:8080/",
          "height": 225
        },
        "id": "8XuLc5zYRzxp",
        "outputId": "afc5bc50-75b3-4f6c-b1ac-e8b1f65b8470"
      },
      "source": [
        " import pandas as pd\n",
        "# Cliente-Producto\n",
        "cust_prod = {'Customer_id':pd.Series([1,2,3,4,5,6]),\n",
        "  'Product':pd.Series(['Oven','Oven','Oven','Television','Television','Television'])}\n",
        "cust_prod = pd.DataFrame(cust_prod)\n",
        "cust_prod\n"
      ],
      "execution_count": null,
      "outputs": [
        {
          "output_type": "execute_result",
          "data": {
            "text/html": [
              "<div>\n",
              "<style scoped>\n",
              "    .dataframe tbody tr th:only-of-type {\n",
              "        vertical-align: middle;\n",
              "    }\n",
              "\n",
              "    .dataframe tbody tr th {\n",
              "        vertical-align: top;\n",
              "    }\n",
              "\n",
              "    .dataframe thead th {\n",
              "        text-align: right;\n",
              "    }\n",
              "</style>\n",
              "<table border=\"1\" class=\"dataframe\">\n",
              "  <thead>\n",
              "    <tr style=\"text-align: right;\">\n",
              "      <th></th>\n",
              "      <th>Customer_id</th>\n",
              "      <th>Product</th>\n",
              "    </tr>\n",
              "  </thead>\n",
              "  <tbody>\n",
              "    <tr>\n",
              "      <th>0</th>\n",
              "      <td>1</td>\n",
              "      <td>Oven</td>\n",
              "    </tr>\n",
              "    <tr>\n",
              "      <th>1</th>\n",
              "      <td>2</td>\n",
              "      <td>Oven</td>\n",
              "    </tr>\n",
              "    <tr>\n",
              "      <th>2</th>\n",
              "      <td>3</td>\n",
              "      <td>Oven</td>\n",
              "    </tr>\n",
              "    <tr>\n",
              "      <th>3</th>\n",
              "      <td>4</td>\n",
              "      <td>Television</td>\n",
              "    </tr>\n",
              "    <tr>\n",
              "      <th>4</th>\n",
              "      <td>5</td>\n",
              "      <td>Television</td>\n",
              "    </tr>\n",
              "    <tr>\n",
              "      <th>5</th>\n",
              "      <td>6</td>\n",
              "      <td>Television</td>\n",
              "    </tr>\n",
              "  </tbody>\n",
              "</table>\n",
              "</div>"
            ],
            "text/plain": [
              "   Customer_id     Product\n",
              "0            1        Oven\n",
              "1            2        Oven\n",
              "2            3        Oven\n",
              "3            4  Television\n",
              "4            5  Television\n",
              "5            6  Television"
            ]
          },
          "metadata": {
            "tags": []
          },
          "execution_count": 61
        }
      ]
    },
    {
      "cell_type": "code",
      "metadata": {
        "colab": {
          "base_uri": "https://localhost:8080/",
          "height": 136
        },
        "id": "qiqzwEMOTVZm",
        "outputId": "0307400b-6036-4658-bf64-470b3fc69c7d"
      },
      "source": [
        " \n",
        "# Localidad cliente\n",
        "clie_loc = {'Customer_id':pd.Series([2,4,6]),\n",
        "    'State':pd.Series(['California','California','Texas'])}\n",
        "clie_loc = pd.DataFrame(clie_loc)\n",
        "clie_loc"
      ],
      "execution_count": null,
      "outputs": [
        {
          "output_type": "execute_result",
          "data": {
            "text/html": [
              "<div>\n",
              "<style scoped>\n",
              "    .dataframe tbody tr th:only-of-type {\n",
              "        vertical-align: middle;\n",
              "    }\n",
              "\n",
              "    .dataframe tbody tr th {\n",
              "        vertical-align: top;\n",
              "    }\n",
              "\n",
              "    .dataframe thead th {\n",
              "        text-align: right;\n",
              "    }\n",
              "</style>\n",
              "<table border=\"1\" class=\"dataframe\">\n",
              "  <thead>\n",
              "    <tr style=\"text-align: right;\">\n",
              "      <th></th>\n",
              "      <th>Customer_id</th>\n",
              "      <th>State</th>\n",
              "    </tr>\n",
              "  </thead>\n",
              "  <tbody>\n",
              "    <tr>\n",
              "      <th>0</th>\n",
              "      <td>2</td>\n",
              "      <td>California</td>\n",
              "    </tr>\n",
              "    <tr>\n",
              "      <th>1</th>\n",
              "      <td>4</td>\n",
              "      <td>California</td>\n",
              "    </tr>\n",
              "    <tr>\n",
              "      <th>2</th>\n",
              "      <td>6</td>\n",
              "      <td>Texas</td>\n",
              "    </tr>\n",
              "  </tbody>\n",
              "</table>\n",
              "</div>"
            ],
            "text/plain": [
              "   Customer_id       State\n",
              "0            2  California\n",
              "1            4  California\n",
              "2            6       Texas"
            ]
          },
          "metadata": {
            "tags": []
          },
          "execution_count": 63
        }
      ]
    },
    {
      "cell_type": "code",
      "metadata": {
        "colab": {
          "base_uri": "https://localhost:8080/",
          "height": 319
        },
        "id": "kUgnWSkXWMe4",
        "outputId": "9bd80ad8-33a8-4c1d-c8e8-cf23e0432293"
      },
      "source": [
        "%whos"
      ],
      "execution_count": null,
      "outputs": [
        {
          "output_type": "stream",
          "text": [
            "Variable    Type             Data/Info\n",
            "--------------------------------------\n",
            "clie_loc    DataFrame           Customer_id       Stat<...>            6       Texas\n",
            "cust_prod   DataFrame           Customer_id     Produc<...>            6  Television\n",
            "dates       DatetimeIndex    DatetimeIndex(['2020-01-0<...>atetime64[ns]', freq='D')\n",
            "df          DataFrame                           A     <...>24334  0.082127  0.868140\n",
            "df2         DataFrame             A          B    C   <...>-01  1.0  2.0  train  foo\n",
            "df3         DataFrame                           A     <...>  NaN  0.082127  0.868140\n",
            "df4         DataFrame             A      B         C  <...>three  1.377578  1.871358\n",
            "files       module           <module 'google.colab.fil<...>s/google/colab/files.py'>\n",
            "fn          str              tmdb_5000_movies.csv\n",
            "io          module           <module 'io' from '/usr/lib/python3.6/io.py'>\n",
            "np          module           <module 'numpy' from '/us<...>kages/numpy/__init__.py'>\n",
            "ordenA      DataFrame                          C      <...>two    1.650943 -0.232364\n",
            "pd          module           <module 'pandas' from '/u<...>ages/pandas/__init__.py'>\n",
            "s           Series           0    1.0\\n1    3.0\\n2    <...>n5    8.0\\ndtype: float64\n",
            "uploaded    dict             n=1\n",
            "valorF      function         <function valorF at 0x7f96aa3e0ea0>\n"
          ],
          "name": "stdout"
        }
      ]
    },
    {
      "cell_type": "markdown",
      "metadata": {
        "id": "rEE3S14eQ3YL"
      },
      "source": [
        "## Left"
      ]
    },
    {
      "cell_type": "markdown",
      "metadata": {
        "id": "nRan-DLETKII"
      },
      "source": [
        "Regresa todos los valores de la tabla izquierda"
      ]
    },
    {
      "cell_type": "code",
      "metadata": {
        "colab": {
          "base_uri": "https://localhost:8080/",
          "height": 136
        },
        "id": "S_ZuP_ckSJSw",
        "outputId": "d9d615b1-0b15-49c6-b186-9c7e7fa3613b"
      },
      "source": [
        "pd.merge(clie_loc, cust_prod, on='Customer_id', how='left')"
      ],
      "execution_count": null,
      "outputs": [
        {
          "output_type": "execute_result",
          "data": {
            "text/html": [
              "<div>\n",
              "<style scoped>\n",
              "    .dataframe tbody tr th:only-of-type {\n",
              "        vertical-align: middle;\n",
              "    }\n",
              "\n",
              "    .dataframe tbody tr th {\n",
              "        vertical-align: top;\n",
              "    }\n",
              "\n",
              "    .dataframe thead th {\n",
              "        text-align: right;\n",
              "    }\n",
              "</style>\n",
              "<table border=\"1\" class=\"dataframe\">\n",
              "  <thead>\n",
              "    <tr style=\"text-align: right;\">\n",
              "      <th></th>\n",
              "      <th>Customer_id</th>\n",
              "      <th>State</th>\n",
              "      <th>Product</th>\n",
              "    </tr>\n",
              "  </thead>\n",
              "  <tbody>\n",
              "    <tr>\n",
              "      <th>0</th>\n",
              "      <td>2</td>\n",
              "      <td>California</td>\n",
              "      <td>Oven</td>\n",
              "    </tr>\n",
              "    <tr>\n",
              "      <th>1</th>\n",
              "      <td>4</td>\n",
              "      <td>California</td>\n",
              "      <td>Television</td>\n",
              "    </tr>\n",
              "    <tr>\n",
              "      <th>2</th>\n",
              "      <td>6</td>\n",
              "      <td>Texas</td>\n",
              "      <td>Television</td>\n",
              "    </tr>\n",
              "  </tbody>\n",
              "</table>\n",
              "</div>"
            ],
            "text/plain": [
              "   Customer_id       State     Product\n",
              "0            2  California        Oven\n",
              "1            4  California  Television\n",
              "2            6       Texas  Television"
            ]
          },
          "metadata": {
            "tags": []
          },
          "execution_count": 64
        }
      ]
    },
    {
      "cell_type": "markdown",
      "metadata": {
        "id": "tKx9VTUuQ5B4"
      },
      "source": [
        "## Right "
      ]
    },
    {
      "cell_type": "markdown",
      "metadata": {
        "id": "PkYY6CZ7TcBG"
      },
      "source": [
        "Regresa todos los valores de la tabla derecha"
      ]
    },
    {
      "cell_type": "code",
      "metadata": {
        "colab": {
          "base_uri": "https://localhost:8080/",
          "height": 225
        },
        "id": "XQEkCpZyTcey",
        "outputId": "f9caf6a4-ccf3-401c-fd55-75a101f82eac"
      },
      "source": [
        "pd.merge(clie_loc, cust_prod, on='Customer_id', how='right')"
      ],
      "execution_count": null,
      "outputs": [
        {
          "output_type": "execute_result",
          "data": {
            "text/html": [
              "<div>\n",
              "<style scoped>\n",
              "    .dataframe tbody tr th:only-of-type {\n",
              "        vertical-align: middle;\n",
              "    }\n",
              "\n",
              "    .dataframe tbody tr th {\n",
              "        vertical-align: top;\n",
              "    }\n",
              "\n",
              "    .dataframe thead th {\n",
              "        text-align: right;\n",
              "    }\n",
              "</style>\n",
              "<table border=\"1\" class=\"dataframe\">\n",
              "  <thead>\n",
              "    <tr style=\"text-align: right;\">\n",
              "      <th></th>\n",
              "      <th>Customer_id</th>\n",
              "      <th>State</th>\n",
              "      <th>Product</th>\n",
              "    </tr>\n",
              "  </thead>\n",
              "  <tbody>\n",
              "    <tr>\n",
              "      <th>0</th>\n",
              "      <td>2</td>\n",
              "      <td>California</td>\n",
              "      <td>Oven</td>\n",
              "    </tr>\n",
              "    <tr>\n",
              "      <th>1</th>\n",
              "      <td>4</td>\n",
              "      <td>California</td>\n",
              "      <td>Television</td>\n",
              "    </tr>\n",
              "    <tr>\n",
              "      <th>2</th>\n",
              "      <td>6</td>\n",
              "      <td>Texas</td>\n",
              "      <td>Television</td>\n",
              "    </tr>\n",
              "    <tr>\n",
              "      <th>3</th>\n",
              "      <td>1</td>\n",
              "      <td>NaN</td>\n",
              "      <td>Oven</td>\n",
              "    </tr>\n",
              "    <tr>\n",
              "      <th>4</th>\n",
              "      <td>3</td>\n",
              "      <td>NaN</td>\n",
              "      <td>Oven</td>\n",
              "    </tr>\n",
              "    <tr>\n",
              "      <th>5</th>\n",
              "      <td>5</td>\n",
              "      <td>NaN</td>\n",
              "      <td>Television</td>\n",
              "    </tr>\n",
              "  </tbody>\n",
              "</table>\n",
              "</div>"
            ],
            "text/plain": [
              "   Customer_id       State     Product\n",
              "0            2  California        Oven\n",
              "1            4  California  Television\n",
              "2            6       Texas  Television\n",
              "3            1         NaN        Oven\n",
              "4            3         NaN        Oven\n",
              "5            5         NaN  Television"
            ]
          },
          "metadata": {
            "tags": []
          },
          "execution_count": 65
        }
      ]
    },
    {
      "cell_type": "markdown",
      "metadata": {
        "id": "9K-u4NuuQ8cE"
      },
      "source": [
        "## Inner Join"
      ]
    },
    {
      "cell_type": "markdown",
      "metadata": {
        "id": "iYYLpH6_SSfR"
      },
      "source": [
        "Regresa solo los renglones en donde existen cohincidencias."
      ]
    },
    {
      "cell_type": "code",
      "metadata": {
        "colab": {
          "base_uri": "https://localhost:8080/",
          "height": 136
        },
        "id": "2klZXQxpSRWa",
        "outputId": "c651e025-f679-4090-c214-58b8e761a08d"
      },
      "source": [
        "pd.merge(clie_loc, cust_prod, on='Customer_id', how='inner')"
      ],
      "execution_count": null,
      "outputs": [
        {
          "output_type": "execute_result",
          "data": {
            "text/html": [
              "<div>\n",
              "<style scoped>\n",
              "    .dataframe tbody tr th:only-of-type {\n",
              "        vertical-align: middle;\n",
              "    }\n",
              "\n",
              "    .dataframe tbody tr th {\n",
              "        vertical-align: top;\n",
              "    }\n",
              "\n",
              "    .dataframe thead th {\n",
              "        text-align: right;\n",
              "    }\n",
              "</style>\n",
              "<table border=\"1\" class=\"dataframe\">\n",
              "  <thead>\n",
              "    <tr style=\"text-align: right;\">\n",
              "      <th></th>\n",
              "      <th>Customer_id</th>\n",
              "      <th>State</th>\n",
              "      <th>Product</th>\n",
              "    </tr>\n",
              "  </thead>\n",
              "  <tbody>\n",
              "    <tr>\n",
              "      <th>0</th>\n",
              "      <td>2</td>\n",
              "      <td>California</td>\n",
              "      <td>Oven</td>\n",
              "    </tr>\n",
              "    <tr>\n",
              "      <th>1</th>\n",
              "      <td>4</td>\n",
              "      <td>California</td>\n",
              "      <td>Television</td>\n",
              "    </tr>\n",
              "    <tr>\n",
              "      <th>2</th>\n",
              "      <td>6</td>\n",
              "      <td>Texas</td>\n",
              "      <td>Television</td>\n",
              "    </tr>\n",
              "  </tbody>\n",
              "</table>\n",
              "</div>"
            ],
            "text/plain": [
              "   Customer_id       State     Product\n",
              "0            2  California        Oven\n",
              "1            4  California  Television\n",
              "2            6       Texas  Television"
            ]
          },
          "metadata": {
            "tags": []
          },
          "execution_count": 66
        }
      ]
    },
    {
      "cell_type": "markdown",
      "metadata": {
        "id": "zOOUrOoGRHda"
      },
      "source": [
        "# 6. For y While"
      ]
    },
    {
      "cell_type": "markdown",
      "metadata": {
        "id": "HqsDjtV1RLR1"
      },
      "source": [
        "## For"
      ]
    },
    {
      "cell_type": "markdown",
      "metadata": {
        "id": "IrQBw6RhU2BS"
      },
      "source": [
        "\n",
        "\n",
        "```\n",
        "for counter in range(1, 6):\n",
        "  ....: print counter\n",
        "```\n",
        "can also be written like this:\n",
        "\n",
        "```\n",
        "\tnumbers = range(1,6)\n",
        "\tfor count in numbers:\n",
        "\t    print (count)\n",
        "```\n",
        "en texto \n",
        "\n",
        "```\n",
        "word = \"computer\"\n",
        "for letter in word:\n",
        "    print (letter)\n",
        "```"
      ]
    },
    {
      "cell_type": "code",
      "metadata": {
        "colab": {
          "base_uri": "https://localhost:8080/",
          "height": 101
        },
        "id": "EOHbgjaraglc",
        "outputId": "2097415f-64c5-45fb-f8ba-814d34f98640"
      },
      "source": [
        "numbers = range(1,6)\n",
        "for count in numbers:\n",
        "  print (count)"
      ],
      "execution_count": null,
      "outputs": [
        {
          "output_type": "stream",
          "text": [
            "1\n",
            "2\n",
            "3\n",
            "4\n",
            "5\n"
          ],
          "name": "stdout"
        }
      ]
    },
    {
      "cell_type": "markdown",
      "metadata": {
        "id": "buQQhc1Wdu1R"
      },
      "source": [
        "Generar el Código para mostrar letra por letra  la frase \"Hola Mundo\""
      ]
    },
    {
      "cell_type": "code",
      "metadata": {
        "colab": {
          "base_uri": "https://localhost:8080/",
          "height": 185
        },
        "id": "IOWHeRewVbyB",
        "outputId": "47e3bfcb-192c-4f20-d1d2-7a4944f851f7"
      },
      "source": [
        "mensaje = \"Hola Mundo\"\n",
        "for letter in mensaje:\n",
        "    print (letter)"
      ],
      "execution_count": null,
      "outputs": [
        {
          "output_type": "stream",
          "text": [
            "H\n",
            "o\n",
            "l\n",
            "a\n",
            " \n",
            "M\n",
            "u\n",
            "n\n",
            "d\n",
            "o\n"
          ],
          "name": "stdout"
        }
      ]
    },
    {
      "cell_type": "code",
      "metadata": {
        "id": "lS2FQfLQeGKS"
      },
      "source": [
        "word = 'Hola Mundo'\n",
        "for letter in word:\n",
        "    print (letter)"
      ],
      "execution_count": null,
      "outputs": []
    },
    {
      "cell_type": "markdown",
      "metadata": {
        "id": "tBONquhERR9p"
      },
      "source": [
        "## While"
      ]
    },
    {
      "cell_type": "code",
      "metadata": {
        "colab": {
          "base_uri": "https://localhost:8080/",
          "height": 202
        },
        "id": "xvVyxI3tVy9G",
        "outputId": "7e7d1ed3-3e79-452d-dae7-cc3cb4a328e0"
      },
      "source": [
        "a = 0\t\t\n",
        "while a <= 10:\t\n",
        "   a = a + 1\t\n",
        "   print (a)"
      ],
      "execution_count": null,
      "outputs": [
        {
          "output_type": "stream",
          "text": [
            "1\n",
            "2\n",
            "3\n",
            "4\n",
            "5\n",
            "6\n",
            "7\n",
            "8\n",
            "9\n",
            "10\n",
            "11\n"
          ],
          "name": "stdout"
        }
      ]
    },
    {
      "cell_type": "code",
      "metadata": {
        "colab": {
          "base_uri": "https://localhost:8080/",
          "height": 202
        },
        "id": "P8Apv-B3eQRm",
        "outputId": "0d76ecdc-8b3b-42d3-aabf-703a05471498"
      },
      "source": [
        "a = 0\t\t\n",
        "while a <= 10:\n",
        "  print (a)\t\n",
        "  a = a + 1\t\n",
        "   "
      ],
      "execution_count": null,
      "outputs": [
        {
          "output_type": "stream",
          "text": [
            "0\n",
            "1\n",
            "2\n",
            "3\n",
            "4\n",
            "5\n",
            "6\n",
            "7\n",
            "8\n",
            "9\n",
            "10\n"
          ],
          "name": "stdout"
        }
      ]
    }
  ]
}