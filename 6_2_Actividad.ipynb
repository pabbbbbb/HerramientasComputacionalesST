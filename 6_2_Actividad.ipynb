{
  "nbformat": 4,
  "nbformat_minor": 0,
  "metadata": {
    "colab": {
      "name": "6.2-Actividad.ipynb",
      "provenance": [],
      "collapsed_sections": [],
      "toc_visible": true,
      "include_colab_link": true
    },
    "kernelspec": {
      "display_name": "Python 3",
      "language": "python",
      "name": "python3"
    },
    "language_info": {
      "codemirror_mode": {
        "name": "ipython",
        "version": 3
      },
      "file_extension": ".py",
      "mimetype": "text/x-python",
      "name": "python",
      "nbconvert_exporter": "python",
      "pygments_lexer": "ipython3",
      "version": "3.8.5"
    }
  },
  "cells": [
    {
      "cell_type": "markdown",
      "metadata": {
        "id": "view-in-github",
        "colab_type": "text"
      },
      "source": [
        "<a href=\"https://colab.research.google.com/github/pabbbbbb/HerramientasComputacionalesST/blob/main/6_2_Actividad.ipynb\" target=\"_parent\"><img src=\"https://colab.research.google.com/assets/colab-badge.svg\" alt=\"Open In Colab\"/></a>"
      ]
    },
    {
      "cell_type": "markdown",
      "metadata": {
        "id": "NAGZIGX35a8I"
      },
      "source": [
        "# Actividad\n",
        "\n",
        "- **Nombre**: Pablo Rodarte\n",
        "- **Matrícula**: A00827746\n",
        "\n",
        "# Entregar \n",
        "Archivo PDF de la actividad y la liga de la actividad en su repostitorio.\n",
        "\n",
        "# Nota: \n",
        "Todas las tareas entregadas fuera de la fecha limite se califican sobre 50 de los 100 puntos posibles.\n"
      ]
    },
    {
      "cell_type": "markdown",
      "metadata": {
        "id": "A6u_Q2Jwxn7Q"
      },
      "source": [
        "**Presion Arterial**"
      ]
    },
    {
      "cell_type": "markdown",
      "metadata": {
        "id": "aZ8qy6Ir5c8X"
      },
      "source": [
        "1. Carga los datos del archivo **presion.csv**"
      ]
    },
    {
      "cell_type": "code",
      "metadata": {
        "id": "ahNyt07-5ijr",
        "colab": {
          "base_uri": "https://localhost:8080/",
          "height": 229
        },
        "outputId": "b10c3aef-9dfa-4952-badc-bf7dc0c8d5f4"
      },
      "source": [
        "from google.colab import drive\n",
        "drive.mount('/content/drive/')\n",
        "\n",
        "%cd 'drive/MyDrive/SemanaTec/Repos/arte-analitica'\n",
        "\n",
        "import pandas as pd\n",
        "import numpy as np\n",
        "import matplotlib.pyplot as plt\n",
        "import seaborn as sns\n",
        "from sklearn.linear_model import LinearRegression\n",
        "\n",
        "sns.set()\n",
        "\n",
        "df = pd.read_csv(\"data/presion.csv\")\n",
        "df.head()"
      ],
      "execution_count": 2,
      "outputs": [
        {
          "output_type": "stream",
          "text": [
            "Mounted at /content/drive/\n",
            "/content/drive/MyDrive/SemanaTec/Repos/arte-analitica\n"
          ],
          "name": "stdout"
        },
        {
          "output_type": "execute_result",
          "data": {
            "text/html": [
              "<div>\n",
              "<style scoped>\n",
              "    .dataframe tbody tr th:only-of-type {\n",
              "        vertical-align: middle;\n",
              "    }\n",
              "\n",
              "    .dataframe tbody tr th {\n",
              "        vertical-align: top;\n",
              "    }\n",
              "\n",
              "    .dataframe thead th {\n",
              "        text-align: right;\n",
              "    }\n",
              "</style>\n",
              "<table border=\"1\" class=\"dataframe\">\n",
              "  <thead>\n",
              "    <tr style=\"text-align: right;\">\n",
              "      <th></th>\n",
              "      <th>edad</th>\n",
              "      <th>presion</th>\n",
              "      <th>Unnamed: 2</th>\n",
              "    </tr>\n",
              "  </thead>\n",
              "  <tbody>\n",
              "    <tr>\n",
              "      <th>0</th>\n",
              "      <td>56</td>\n",
              "      <td>148</td>\n",
              "      <td>NaN</td>\n",
              "    </tr>\n",
              "    <tr>\n",
              "      <th>1</th>\n",
              "      <td>45</td>\n",
              "      <td>120</td>\n",
              "      <td>NaN</td>\n",
              "    </tr>\n",
              "    <tr>\n",
              "      <th>2</th>\n",
              "      <td>72</td>\n",
              "      <td>159</td>\n",
              "      <td>NaN</td>\n",
              "    </tr>\n",
              "    <tr>\n",
              "      <th>3</th>\n",
              "      <td>36</td>\n",
              "      <td>118</td>\n",
              "      <td>NaN</td>\n",
              "    </tr>\n",
              "    <tr>\n",
              "      <th>4</th>\n",
              "      <td>63</td>\n",
              "      <td>146</td>\n",
              "      <td>NaN</td>\n",
              "    </tr>\n",
              "  </tbody>\n",
              "</table>\n",
              "</div>"
            ],
            "text/plain": [
              "   edad  presion  Unnamed: 2\n",
              "0    56      148         NaN\n",
              "1    45      120         NaN\n",
              "2    72      159         NaN\n",
              "3    36      118         NaN\n",
              "4    63      146         NaN"
            ]
          },
          "metadata": {
            "tags": []
          },
          "execution_count": 2
        }
      ]
    },
    {
      "cell_type": "markdown",
      "metadata": {
        "id": "J8x9l3sd5jYI"
      },
      "source": [
        "2. Gráfica la información en el eje de las x la edad  y en el eje y la presión\n"
      ]
    },
    {
      "cell_type": "code",
      "metadata": {
        "id": "qCbTiXd45qr0",
        "colab": {
          "base_uri": "https://localhost:8080/",
          "height": 302
        },
        "outputId": "fe057b59-f1bf-462c-c423-06e9fcc933ca"
      },
      "source": [
        "sns.scatterplot(data=df, x='edad', y='presion')"
      ],
      "execution_count": 4,
      "outputs": [
        {
          "output_type": "execute_result",
          "data": {
            "text/plain": [
              "<matplotlib.axes._subplots.AxesSubplot at 0x7f5ab47ff950>"
            ]
          },
          "metadata": {
            "tags": []
          },
          "execution_count": 4
        },
        {
          "output_type": "display_data",
          "data": {
            "image/png": "[encoded data removed]",
            "text/plain": [
              "<Figure size 432x288 with 1 Axes>"
            ]
          },
          "metadata": {
            "tags": []
          }
        }
      ]
    },
    {
      "cell_type": "markdown",
      "metadata": {
        "id": "Ha4fEpQ_5roa"
      },
      "source": [
        "3. Genera una regresión lineal para obtener una aproximación de la ecuación \n",
        "$$\n",
        "y = ax + b\n",
        "$$\n",
        "donde $ a $ se conoce comúnmente como * pendiente *, y $ b $ se conoce comúnmente como * intersección *.\n",
        "\n",
        "¿Cuál es el valor de a y cuál es el valor de b?"
      ]
    },
    {
      "cell_type": "code",
      "metadata": {
        "id": "BIcuqKya6zHY",
        "colab": {
          "base_uri": "https://localhost:8080/",
          "height": 0
        },
        "outputId": "b4be1a2d-8409-40f5-f929-06333707457a"
      },
      "source": [
        "model = LinearRegression(fit_intercept=True)\n",
        "\n",
        "x = df[\"edad\"]\n",
        "y = df[\"presion\"]\n",
        "\n",
        "model.fit(x[:, np.newaxis], y)\n",
        "\n",
        "xfit = np.linspace(30, 100, 100)\n",
        "yfit = model.predict(xfit[:, np.newaxis])\n",
        "\n",
        "print(\"Model slope:    \", model.coef_[0])\n",
        "print(\"Model intercept:\", model.intercept_)"
      ],
      "execution_count": 5,
      "outputs": [
        {
          "output_type": "stream",
          "text": [
            "Model slope:     1.1483331897665603\n",
            "Model intercept: 79.36850719269533\n"
          ],
          "name": "stdout"
        },
        {
          "output_type": "stream",
          "text": [
            "/usr/local/lib/python3.7/dist-packages/ipykernel_launcher.py:6: FutureWarning: Support for multi-dimensional indexing (e.g. `obj[:, None]`) is deprecated and will be removed in a future version.  Convert to a numpy array before indexing instead.\n",
            "  \n"
          ],
          "name": "stderr"
        }
      ]
    },
    {
      "cell_type": "markdown",
      "metadata": {
        "id": "OGwecRAP6zSc"
      },
      "source": [
        "4. Gráfica los datos reales vs modelo obtenido. \n",
        "\n",
        "Se debe visualizar los datos reales ( azules) \n",
        "Recta del modelo ( negra) \n",
        "Distancias ( verde ) "
      ]
    },
    {
      "cell_type": "code",
      "metadata": {
        "id": "hhStTwBE64m_",
        "colab": {
          "base_uri": "https://localhost:8080/",
          "height": 322
        },
        "outputId": "ad2d102e-40a4-4e8d-c7d1-4f1155c2a691"
      },
      "source": [
        "plt.scatter(x, y)\n",
        "\n",
        "plt.plot(x,y, 'o')\n",
        "plt.plot(xfit, yfit, color=\"black\");\n",
        "plt.plot(np.vstack([x,x]), np.vstack([y, model.predict(x[:, np.newaxis])]), color=\"green\");"
      ],
      "execution_count": null,
      "outputs": [
        {
          "output_type": "stream",
          "text": [
            "/usr/local/lib/python3.7/dist-packages/ipykernel_launcher.py:5: FutureWarning: Support for multi-dimensional indexing (e.g. `obj[:, None]`) is deprecated and will be removed in a future version.  Convert to a numpy array before indexing instead.\n",
            "  \"\"\"\n"
          ],
          "name": "stderr"
        },
        {
          "output_type": "display_data",
          "data": {
            "image/png": "[encoded data removed]",
            "text/plain": [
              "<Figure size 432x288 with 1 Axes>"
            ]
          },
          "metadata": {
            "tags": []
          }
        }
      ]
    },
    {
      "cell_type": "markdown",
      "metadata": {
        "id": "oZhvlIU57ECO"
      },
      "source": [
        "4. ¿Cuál es la presión arterial esperada para una persona de 76 años?\n",
        "\n",
        "Genera una función que calcule lo anterior"
      ]
    },
    {
      "cell_type": "code",
      "metadata": {
        "id": "AAorqUTv7LjX",
        "colab": {
          "base_uri": "https://localhost:8080/"
        },
        "outputId": "0c9ced33-64c9-413e-8657-c2184a932588"
      },
      "source": [
        "edad_calcular=76\n",
        "\n",
        "def presion(edad):\n",
        "  y= model.coef_[0]*edad + model.intercept_ \n",
        "  return y\n",
        "\n",
        "presion(edad_calcular)"
      ],
      "execution_count": null,
      "outputs": [
        {
          "output_type": "execute_result",
          "data": {
            "text/plain": [
              "166.6418296149539"
            ]
          },
          "metadata": {
            "tags": []
          },
          "execution_count": 6
        }
      ]
    },
    {
      "cell_type": "markdown",
      "metadata": {
        "id": "QpeT5QCaxtMi"
      },
      "source": [
        "**Ventas de mi negocio**\n",
        "\n",
        "Nuestro objetivo será contruir un modelo que prediga las ventas del producto dependiendo de cuánto presupuesto se gaste en cada medio."
      ]
    },
    {
      "cell_type": "markdown",
      "metadata": {
        "id": "erS5zKSGx9SS"
      },
      "source": [
        "1. Carga los datos del archivo AdvmiNegocio.csv"
      ]
    },
    {
      "cell_type": "code",
      "metadata": {
        "id": "waoWhXhsyTIW",
        "colab": {
          "base_uri": "https://localhost:8080/",
          "height": 195
        },
        "outputId": "e0989046-be93-4018-f035-4498be3bb0eb"
      },
      "source": [
        "dfn = pd.read_csv(\"data/AdvmiNegocio.csv\")\n",
        "dfn.head()"
      ],
      "execution_count": 7,
      "outputs": [
        {
          "output_type": "execute_result",
          "data": {
            "text/html": [
              "<div>\n",
              "<style scoped>\n",
              "    .dataframe tbody tr th:only-of-type {\n",
              "        vertical-align: middle;\n",
              "    }\n",
              "\n",
              "    .dataframe tbody tr th {\n",
              "        vertical-align: top;\n",
              "    }\n",
              "\n",
              "    .dataframe thead th {\n",
              "        text-align: right;\n",
              "    }\n",
              "</style>\n",
              "<table border=\"1\" class=\"dataframe\">\n",
              "  <thead>\n",
              "    <tr style=\"text-align: right;\">\n",
              "      <th></th>\n",
              "      <th>Unnamed: 0</th>\n",
              "      <th>Redes</th>\n",
              "      <th>Youtube</th>\n",
              "      <th>TV</th>\n",
              "      <th>sales</th>\n",
              "    </tr>\n",
              "  </thead>\n",
              "  <tbody>\n",
              "    <tr>\n",
              "      <th>0</th>\n",
              "      <td>1</td>\n",
              "      <td>6903</td>\n",
              "      <td>1134</td>\n",
              "      <td>2076</td>\n",
              "      <td>663</td>\n",
              "    </tr>\n",
              "    <tr>\n",
              "      <th>1</th>\n",
              "      <td>2</td>\n",
              "      <td>1335</td>\n",
              "      <td>1179</td>\n",
              "      <td>1353</td>\n",
              "      <td>312</td>\n",
              "    </tr>\n",
              "    <tr>\n",
              "      <th>2</th>\n",
              "      <td>3</td>\n",
              "      <td>516</td>\n",
              "      <td>1377</td>\n",
              "      <td>2079</td>\n",
              "      <td>279</td>\n",
              "    </tr>\n",
              "    <tr>\n",
              "      <th>3</th>\n",
              "      <td>4</td>\n",
              "      <td>4545</td>\n",
              "      <td>1239</td>\n",
              "      <td>1755</td>\n",
              "      <td>555</td>\n",
              "    </tr>\n",
              "    <tr>\n",
              "      <th>4</th>\n",
              "      <td>5</td>\n",
              "      <td>5424</td>\n",
              "      <td>324</td>\n",
              "      <td>1752</td>\n",
              "      <td>387</td>\n",
              "    </tr>\n",
              "  </tbody>\n",
              "</table>\n",
              "</div>"
            ],
            "text/plain": [
              "   Unnamed: 0  Redes  Youtube    TV  sales\n",
              "0           1   6903     1134  2076    663\n",
              "1           2   1335     1179  1353    312\n",
              "2           3    516     1377  2079    279\n",
              "3           4   4545     1239  1755    555\n",
              "4           5   5424      324  1752    387"
            ]
          },
          "metadata": {
            "tags": []
          },
          "execution_count": 7
        }
      ]
    },
    {
      "cell_type": "markdown",
      "metadata": {
        "id": "KQYRlwotyTXh"
      },
      "source": [
        "2. Generar una grafica para visuaizar  cómo se relaciona cada columna de presupuesto contra las ventas. De mi negocio. ( Redes,Youtube,TV)\n"
      ]
    },
    {
      "cell_type": "code",
      "metadata": {
        "id": "3x5005GpygO5",
        "colab": {
          "base_uri": "https://localhost:8080/",
          "height": 302
        },
        "outputId": "17d31bd8-4a7d-40d0-be6b-e957bfb734cf"
      },
      "source": [
        "sns.scatterplot(data=dfn, x='Redes', y='sales', label=\"Redes\")\n",
        "sns.scatterplot(data=dfn, x='Youtube', y='sales', label=\"YouTube\")\n",
        "sns.scatterplot(data=dfn, x='TV', y='sales',label=\"TV\")"
      ],
      "execution_count": 8,
      "outputs": [
        {
          "output_type": "execute_result",
          "data": {
            "text/plain": [
              "<matplotlib.axes._subplots.AxesSubplot at 0x7f5ab281d810>"
            ]
          },
          "metadata": {
            "tags": []
          },
          "execution_count": 8
        },
        {
          "output_type": "display_data",
          "data": {
            "image/png": "[encoded data removed]",
            "text/plain": [
              "<Figure size 432x288 with 1 Axes>"
            ]
          },
          "metadata": {
            "tags": []
          }
        }
      ]
    },
    {
      "cell_type": "markdown",
      "metadata": {
        "id": "rrREuedNygXw"
      },
      "source": [
        "3. ¿ Qué conclusiones puedes obtener de las graficas anteriores?"
      ]
    },
    {
      "cell_type": "markdown",
      "metadata": {
        "id": "Ap42szXtyoiK"
      },
      "source": [
        "*No hay relación obvia entre YouTube ni TV contra las ventas. Solamente Redes muestran relación positiva algo lineal, sin embargo, sigue habiendo mucho ruido en los datos.*"
      ]
    },
    {
      "cell_type": "markdown",
      "metadata": {
        "id": "U09F1JeRyuIq"
      },
      "source": [
        "4. **Regresión lineal**. En su forma más simple, consiste en asumir que una variable $x$ y una variable $y$ presentan una relación lineal de la forma:\n",
        "\n",
        "$$ y \\approx \\beta_0 + \\beta_1 \\cdot x$$\n",
        "\n",
        "¿Cuál es el valor de beta_0 , beta_1 y el Score  para Redes vs Ventas, TV vs Ventas y YouTube vs Ventas?"
      ]
    },
    {
      "cell_type": "code",
      "metadata": {
        "colab": {
          "base_uri": "https://localhost:8080/",
          "height": 0
        },
        "id": "AGtPUTIYXEMX",
        "outputId": "04832606-6a2e-4abc-b803-6e9c1ad8ad43"
      },
      "source": [
        "from sklearn import datasets, linear_model\n",
        "from sklearn.metrics import mean_squared_error, r2_score\n",
        "\n",
        "model = LinearRegression(fit_intercept=True)\n",
        "\n",
        "#para redes\n",
        "y = dfn[\"sales\"]\n",
        "x = dfn[\"Redes\"]\n",
        "model.fit(x[:, np.newaxis], y)\n",
        "xfit = np.copy(x)\n",
        "yfit = model.predict(xfit[:, np.newaxis])\n",
        "\n",
        "r = r2_score(y, yfit)\n",
        "\n",
        "print(\"Redes Beta 1: \", model.coef_[0])\n",
        "print(\"Redes Beta 0: \", model.intercept_)\n",
        "print(\"Score:        \", r)\n",
        "#para TV\n",
        "x = dfn[\"TV\"]\n",
        "model.fit(x[:, np.newaxis], y)\n",
        "xfit = np.copy(x)\n",
        "yfit = model.predict(xfit[:, np.newaxis])\n",
        "\n",
        "r = r2_score(y, yfit)\n",
        "\n",
        "print(\"TV Beta 1: \", model.coef_[0])\n",
        "print(\"TV Beta 0: \", model.intercept_)\n",
        "print(\"Score:     \", r)\n",
        "#para YouTube\n",
        "x = dfn[\"Youtube\"]\n",
        "model.fit(x[:, np.newaxis], y)\n",
        "xfit = np.copy(x)\n",
        "yfit = model.predict(xfit[:, np.newaxis])\n",
        "\n",
        "r = r2_score(y, yfit)\n",
        "\n",
        "print(\"YouTube Beta 1: \", model.coef_[0])\n",
        "print(\"YouTube Beta 0: \", model.intercept_)\n",
        "print(\"Score:          \", r)"
      ],
      "execution_count": 10,
      "outputs": [
        {
          "output_type": "stream",
          "text": [
            "Redes Beta 1:  0.04753664043301975\n",
            "Redes Beta 0:  210.97780647383084\n",
            "Score:         0.611875050850071\n",
            "TV Beta 1:  0.05469309847227337\n",
            "TV Beta 0:  370.5422120783448\n",
            "Score:      0.05212044544430494\n",
            "YouTube Beta 1:  0.20249578339243968\n",
            "YouTube Beta 0:  279.3491428547485\n",
            "Score:           0.33203245544529536\n"
          ],
          "name": "stdout"
        },
        {
          "output_type": "stream",
          "text": [
            "/usr/local/lib/python3.7/dist-packages/ipykernel_launcher.py:9: FutureWarning: Support for multi-dimensional indexing (e.g. `obj[:, None]`) is deprecated and will be removed in a future version.  Convert to a numpy array before indexing instead.\n",
            "  if __name__ == '__main__':\n",
            "/usr/local/lib/python3.7/dist-packages/ipykernel_launcher.py:20: FutureWarning: Support for multi-dimensional indexing (e.g. `obj[:, None]`) is deprecated and will be removed in a future version.  Convert to a numpy array before indexing instead.\n",
            "/usr/local/lib/python3.7/dist-packages/ipykernel_launcher.py:31: FutureWarning: Support for multi-dimensional indexing (e.g. `obj[:, None]`) is deprecated and will be removed in a future version.  Convert to a numpy array before indexing instead.\n"
          ],
          "name": "stderr"
        }
      ]
    },
    {
      "cell_type": "markdown",
      "metadata": {
        "id": "er8aCv1l0FQK"
      },
      "source": [
        "5. ¿Cuál de los modelos es mejor de acuerdo al score ordenalos del mejor al peor?"
      ]
    },
    {
      "cell_type": "markdown",
      "metadata": {
        "id": "CKjebCbUZyYH"
      },
      "source": [
        "*En orden ascendente: TV y Sales: 0.052*\n",
        "\n",
        "*YouTube y Sales: 0.33*\n",
        "\n",
        "*Redes y Sales: 0.61*\n",
        "\n",
        "*Esto quiere decir que el modelo que mejor se ajusta es el de Redes y Sales, lo cual nos ayuda a obtener una predicción más confiable que los otros modelos*"
      ]
    },
    {
      "cell_type": "markdown",
      "metadata": {
        "id": "56LBN0_d0OAC"
      },
      "source": [
        "6.  **Regresión lineal múltiple**. Como ahora vamos a incluir más de una variable, el modelo se rescribe a :\n",
        "\n",
        "$$ \\hat{y} = \\hat{\\beta}_0 + \\hat{\\beta}_1 \\cdot x_1 + \\hat{\\beta}_2 \\cdot x_2 + \\hat{\\beta}_3\\cdot x_3 + \\ldots \\epsilon $$\n",
        "\n",
        "Elige  las diferentes combinaciones de variables. Ejemplo: Redes y Youtube vs Ventas \n",
        "\n",
        "¿Cuál es el valor de beta_0, betas_1 , beta_2 , el score y el score ajustado?\n",
        "\n"
      ]
    },
    {
      "cell_type": "code",
      "metadata": {
        "id": "_6QsI_obdMjQ",
        "colab": {
          "base_uri": "https://localhost:8080/",
          "height": 0
        },
        "outputId": "56c20a9f-8f35-4932-aa5e-33b575617f0c"
      },
      "source": [
        "model = LinearRegression(fit_intercept=True)\n",
        "#para redes y youtube\n",
        "y = dfn[\"sales\"]\n",
        "x = dfn[[\"Redes\",\"Youtube\"]]\n",
        "\n",
        "model.fit(x, y)\n",
        "xfit = np.copy(x)\n",
        "yfit = model.predict(xfit)\n",
        "\n",
        "r = r2_score(y, yfit)\n",
        "\n",
        "print(\"Score Redes y YouTube: \",r)\n",
        "print(\"Beta 0:\", model.intercept_)\n",
        "print(\"Beta 1:    \", model.coef_[0])\n",
        "print(\"Beta 2:    \", model.coef_[1])\n",
        "print(\"R ajustada: \",1 - (1-r)*(len(y)-1)/(len(y)-xfit.shape[1]-1))\n",
        "#redes y TV\n",
        "x = dfn[[\"Redes\",\"TV\"]]\n",
        "\n",
        "model.fit(x, y)\n",
        "xfit = np.copy(x)\n",
        "yfit = model.predict(xfit)\n",
        "\n",
        "r = r2_score(y, yfit)\n",
        "\n",
        "print(\"Score Redes y TV: \",r)\n",
        "print(\"Beta 0:\", model.intercept_)\n",
        "print(\"Beta 1:    \", model.coef_[0])\n",
        "print(\"Beta 2:    \", model.coef_[1])\n",
        "print(\"R ajustada: \",1 - (1-r)*(len(y)-1)/(len(y)-xfit.shape[1]-1))\n",
        "#YouTube y TV\n",
        "x = dfn[[\"Youtube\",\"TV\"]]\n",
        "\n",
        "model.fit(x, y)\n",
        "xfit = np.copy(x)\n",
        "yfit = model.predict(xfit)\n",
        "\n",
        "r = r2_score(y, yfit)\n",
        "\n",
        "print(\"Score YouTube y TV: \",r)\n",
        "print(\"Beta 0:\", model.intercept_)\n",
        "print(\"Beta 1:    \", model.coef_[0])\n",
        "print(\"Beta 2:    \", model.coef_[1])\n",
        "print(\"R ajustada: \",1 - (1-r)*(len(y)-1)/(len(y)-xfit.shape[1]-1))\n",
        "#3 variables\n",
        "x = dfn[[\"Youtube\",\"TV\",\"Redes\"]]\n",
        "\n",
        "model.fit(x, y)\n",
        "xfit = np.copy(x)\n",
        "yfit = model.predict(xfit)\n",
        "\n",
        "r = r2_score(y, yfit)\n",
        "\n",
        "print(\"Score YouTube, TV y Redes: \",r)\n",
        "print(\"Beta 0:\", model.intercept_)\n",
        "print(\"Beta 1:    \", model.coef_[0])\n",
        "print(\"Beta 2:    \", model.coef_[1])\n",
        "print(\"Beta 3:    \", model.coef_[2])\n",
        "print(\"R ajustada: \",1 - (1-r)*(len(y)-1)/(len(y)-xfit.shape[1]-1))"
      ],
      "execution_count": 56,
      "outputs": [
        {
          "output_type": "stream",
          "text": [
            "Score Redes y YouTube:  0.8971942610828956\n",
            "Beta 0: 87.63299737215414\n",
            "Beta 1:     0.045754815101076145\n",
            "Beta 2:     0.1879942266203092\n",
            "R ajustada:  0.8961505479974428\n",
            "Score Redes y TV:  0.6458354938293271\n",
            "Beta 0: 173.24843903734896\n",
            "Beta 1:     0.04690121389190708\n",
            "Beta 2:     0.04421942424519284\n",
            "R ajustada:  0.6422399150864777\n",
            "Score YouTube y TV:  0.33270518395032256\n",
            "Beta 0: 275.66761377589694\n",
            "Beta 1:     0.19904459389696902\n",
            "Beta 2:     0.006644174523281712\n",
            "R ajustada:  0.3259306172899198\n",
            "Score YouTube, TV y Redes:  0.8972106381789521\n",
            "Beta 0: 88.16668108378241\n",
            "Beta 1:     0.18853001691820448\n",
            "Beta 2:     -0.001037493042476311\n",
            "Beta 3:     0.04576464545539759\n",
            "R ajustada:  0.8956373316204667\n"
          ],
          "name": "stdout"
        }
      ]
    },
    {
      "cell_type": "markdown",
      "metadata": {
        "id": "C6bsCdYP1jd5"
      },
      "source": [
        "7.  ¿Cuál modelo es el que nos conviene elegir?"
      ]
    },
    {
      "cell_type": "markdown",
      "metadata": {
        "id": "iVZeSnvp1qUa"
      },
      "source": [
        "*De acuerdo a los datos obtenidos anteriormente, se puede concluir que el modelo mejor ajustado es el que incluye las 2 variables independientes de Redes y YouTube, ya que, tiene una r ajustada de 0.8961 y representa fuerte correlación lineal y, por ende, predicciones bastante confiables.*"
      ]
    }
  ]
}